{
 "cells": [
  {
   "cell_type": "markdown",
   "metadata": {},
   "source": [
    "## *FBE551: Quantitative Investing* Final Project\n",
    "\n",
    "**Team Name:**\n",
    "\n",
    "    JPMarshall\n",
    "\n",
    "**Team Members:**\n",
    "\n",
    "    Yi LIU\n",
    "    Hao WANG\n",
    "    Siqin YANG\n",
    "    Sijia ZENG\n",
    "\n",
    "\n",
    "In this notebook, we implement four individual strategies, **Reversal, Payout Yield, Volatility, Momentum** separately and use results for further combination."
   ]
  },
  {
   "cell_type": "code",
   "execution_count": 1,
   "metadata": {
    "ExecuteTime": {
     "end_time": "2021-12-01T03:29:46.099718Z",
     "start_time": "2021-12-01T03:29:45.778728Z"
    }
   },
   "outputs": [],
   "source": [
    "import numpy as np\n",
    "import pandas as pd"
   ]
  },
  {
   "cell_type": "markdown",
   "metadata": {},
   "source": [
    "## Data Preparation"
   ]
  },
  {
   "cell_type": "code",
   "execution_count": 2,
   "metadata": {
    "ExecuteTime": {
     "end_time": "2021-12-01T03:29:47.042063Z",
     "start_time": "2021-12-01T03:29:46.566739Z"
    }
   },
   "outputs": [],
   "source": [
    "data = pd.read_feather('./Data/crspm.feather')\n",
    "data = data.loc[data['DATE']>'1993-01-27']"
   ]
  },
  {
   "cell_type": "markdown",
   "metadata": {},
   "source": [
    "### Data Interpretation"
   ]
  },
  {
   "cell_type": "code",
   "execution_count": 3,
   "metadata": {
    "ExecuteTime": {
     "end_time": "2021-12-01T03:29:47.871464Z",
     "start_time": "2021-12-01T03:29:47.842025Z"
    }
   },
   "outputs": [
    {
     "data": {
      "text/html": [
       "<div>\n",
       "<style scoped>\n",
       "    .dataframe tbody tr th:only-of-type {\n",
       "        vertical-align: middle;\n",
       "    }\n",
       "\n",
       "    .dataframe tbody tr th {\n",
       "        vertical-align: top;\n",
       "    }\n",
       "\n",
       "    .dataframe thead th {\n",
       "        text-align: right;\n",
       "    }\n",
       "</style>\n",
       "<table border=\"1\" class=\"dataframe\">\n",
       "  <thead>\n",
       "    <tr style=\"text-align: right;\">\n",
       "      <th></th>\n",
       "      <th>PERMNO</th>\n",
       "      <th>DATE</th>\n",
       "      <th>PRC</th>\n",
       "      <th>SHROUT</th>\n",
       "      <th>SHRCD</th>\n",
       "      <th>EXCHCD</th>\n",
       "      <th>SICCD</th>\n",
       "      <th>VOL</th>\n",
       "      <th>RET</th>\n",
       "      <th>DIVAMT</th>\n",
       "    </tr>\n",
       "  </thead>\n",
       "  <tbody>\n",
       "    <tr>\n",
       "      <th>104</th>\n",
       "      <td>10001.0</td>\n",
       "      <td>1993-01-29</td>\n",
       "      <td>-14.000000</td>\n",
       "      <td>1080.0</td>\n",
       "      <td>11.0</td>\n",
       "      <td>3.0</td>\n",
       "      <td>4920.0</td>\n",
       "      <td>44.0</td>\n",
       "      <td>0.000000</td>\n",
       "      <td>NaN</td>\n",
       "    </tr>\n",
       "    <tr>\n",
       "      <th>105</th>\n",
       "      <td>10001.0</td>\n",
       "      <td>1993-02-26</td>\n",
       "      <td>14.250000</td>\n",
       "      <td>1080.0</td>\n",
       "      <td>11.0</td>\n",
       "      <td>3.0</td>\n",
       "      <td>4920.0</td>\n",
       "      <td>23.0</td>\n",
       "      <td>0.017857</td>\n",
       "      <td>NaN</td>\n",
       "    </tr>\n",
       "    <tr>\n",
       "      <th>106</th>\n",
       "      <td>10001.0</td>\n",
       "      <td>1993-03-31</td>\n",
       "      <td>14.250000</td>\n",
       "      <td>1075.0</td>\n",
       "      <td>11.0</td>\n",
       "      <td>3.0</td>\n",
       "      <td>4920.0</td>\n",
       "      <td>137.0</td>\n",
       "      <td>0.011053</td>\n",
       "      <td>0.1575</td>\n",
       "    </tr>\n",
       "    <tr>\n",
       "      <th>107</th>\n",
       "      <td>10001.0</td>\n",
       "      <td>1993-04-30</td>\n",
       "      <td>-15.250000</td>\n",
       "      <td>1075.0</td>\n",
       "      <td>11.0</td>\n",
       "      <td>3.0</td>\n",
       "      <td>4920.0</td>\n",
       "      <td>473.0</td>\n",
       "      <td>0.070175</td>\n",
       "      <td>NaN</td>\n",
       "    </tr>\n",
       "    <tr>\n",
       "      <th>108</th>\n",
       "      <td>10001.0</td>\n",
       "      <td>1993-05-28</td>\n",
       "      <td>-15.125000</td>\n",
       "      <td>1075.0</td>\n",
       "      <td>11.0</td>\n",
       "      <td>3.0</td>\n",
       "      <td>4920.0</td>\n",
       "      <td>126.0</td>\n",
       "      <td>-0.008197</td>\n",
       "      <td>NaN</td>\n",
       "    </tr>\n",
       "    <tr>\n",
       "      <th>...</th>\n",
       "      <td>...</td>\n",
       "      <td>...</td>\n",
       "      <td>...</td>\n",
       "      <td>...</td>\n",
       "      <td>...</td>\n",
       "      <td>...</td>\n",
       "      <td>...</td>\n",
       "      <td>...</td>\n",
       "      <td>...</td>\n",
       "      <td>...</td>\n",
       "    </tr>\n",
       "    <tr>\n",
       "      <th>4395316</th>\n",
       "      <td>93436.0</td>\n",
       "      <td>2020-08-31</td>\n",
       "      <td>498.320007</td>\n",
       "      <td>931809.0</td>\n",
       "      <td>11.0</td>\n",
       "      <td>3.0</td>\n",
       "      <td>9999.0</td>\n",
       "      <td>4051970.0</td>\n",
       "      <td>0.741452</td>\n",
       "      <td>0.0000</td>\n",
       "    </tr>\n",
       "    <tr>\n",
       "      <th>4395317</th>\n",
       "      <td>93436.0</td>\n",
       "      <td>2020-09-30</td>\n",
       "      <td>429.010010</td>\n",
       "      <td>948000.0</td>\n",
       "      <td>11.0</td>\n",
       "      <td>3.0</td>\n",
       "      <td>9999.0</td>\n",
       "      <td>17331954.0</td>\n",
       "      <td>-0.139087</td>\n",
       "      <td>NaN</td>\n",
       "    </tr>\n",
       "    <tr>\n",
       "      <th>4395318</th>\n",
       "      <td>93436.0</td>\n",
       "      <td>2020-10-30</td>\n",
       "      <td>388.040009</td>\n",
       "      <td>947901.0</td>\n",
       "      <td>11.0</td>\n",
       "      <td>3.0</td>\n",
       "      <td>9999.0</td>\n",
       "      <td>8330610.0</td>\n",
       "      <td>-0.095499</td>\n",
       "      <td>NaN</td>\n",
       "    </tr>\n",
       "    <tr>\n",
       "      <th>4395319</th>\n",
       "      <td>93436.0</td>\n",
       "      <td>2020-11-30</td>\n",
       "      <td>567.599976</td>\n",
       "      <td>947901.0</td>\n",
       "      <td>11.0</td>\n",
       "      <td>3.0</td>\n",
       "      <td>9999.0</td>\n",
       "      <td>7811501.0</td>\n",
       "      <td>0.462736</td>\n",
       "      <td>NaN</td>\n",
       "    </tr>\n",
       "    <tr>\n",
       "      <th>4395320</th>\n",
       "      <td>93436.0</td>\n",
       "      <td>2020-12-31</td>\n",
       "      <td>705.669983</td>\n",
       "      <td>947901.0</td>\n",
       "      <td>11.0</td>\n",
       "      <td>3.0</td>\n",
       "      <td>9999.0</td>\n",
       "      <td>11962716.0</td>\n",
       "      <td>0.243252</td>\n",
       "      <td>NaN</td>\n",
       "    </tr>\n",
       "  </tbody>\n",
       "</table>\n",
       "<p>2582186 rows × 10 columns</p>\n",
       "</div>"
      ],
      "text/plain": [
       "          PERMNO       DATE         PRC    SHROUT  SHRCD  EXCHCD   SICCD  \\\n",
       "104      10001.0 1993-01-29  -14.000000    1080.0   11.0     3.0  4920.0   \n",
       "105      10001.0 1993-02-26   14.250000    1080.0   11.0     3.0  4920.0   \n",
       "106      10001.0 1993-03-31   14.250000    1075.0   11.0     3.0  4920.0   \n",
       "107      10001.0 1993-04-30  -15.250000    1075.0   11.0     3.0  4920.0   \n",
       "108      10001.0 1993-05-28  -15.125000    1075.0   11.0     3.0  4920.0   \n",
       "...          ...        ...         ...       ...    ...     ...     ...   \n",
       "4395316  93436.0 2020-08-31  498.320007  931809.0   11.0     3.0  9999.0   \n",
       "4395317  93436.0 2020-09-30  429.010010  948000.0   11.0     3.0  9999.0   \n",
       "4395318  93436.0 2020-10-30  388.040009  947901.0   11.0     3.0  9999.0   \n",
       "4395319  93436.0 2020-11-30  567.599976  947901.0   11.0     3.0  9999.0   \n",
       "4395320  93436.0 2020-12-31  705.669983  947901.0   11.0     3.0  9999.0   \n",
       "\n",
       "                VOL       RET  DIVAMT  \n",
       "104            44.0  0.000000     NaN  \n",
       "105            23.0  0.017857     NaN  \n",
       "106           137.0  0.011053  0.1575  \n",
       "107           473.0  0.070175     NaN  \n",
       "108           126.0 -0.008197     NaN  \n",
       "...             ...       ...     ...  \n",
       "4395316   4051970.0  0.741452  0.0000  \n",
       "4395317  17331954.0 -0.139087     NaN  \n",
       "4395318   8330610.0 -0.095499     NaN  \n",
       "4395319   7811501.0  0.462736     NaN  \n",
       "4395320  11962716.0  0.243252     NaN  \n",
       "\n",
       "[2582186 rows x 10 columns]"
      ]
     },
     "execution_count": 3,
     "metadata": {},
     "output_type": "execute_result"
    }
   ],
   "source": [
    "data"
   ]
  },
  {
   "cell_type": "markdown",
   "metadata": {},
   "source": [
    "| Column Name | Description |\n",
    "| :----- | :---- |\n",
    "| permno | a unique security identifier |\n",
    "| date | the date |\n",
    "| prc | closing price; if negative, then the midpoint of the closing bid-ask spread; if you use this, take the absolute value |\n",
    "| shrout | number of shares outstanding |\n",
    "|...|...|\n",
    "| vol | trading volume in shares |\n",
    "| ret | rate of return |\n",
    "| divamt | amount of any dividend paid |  "
   ]
  },
  {
   "cell_type": "markdown",
   "metadata": {},
   "source": [
    "### Data Preprocess"
   ]
  },
  {
   "cell_type": "markdown",
   "metadata": {},
   "source": [
    "duplicates exist for same PERMNO & DATE"
   ]
  },
  {
   "cell_type": "code",
   "execution_count": 4,
   "metadata": {
    "ExecuteTime": {
     "end_time": "2021-12-01T03:29:49.604029Z",
     "start_time": "2021-12-01T03:29:49.414415Z"
    }
   },
   "outputs": [
    {
     "data": {
      "text/plain": [
       "24315"
      ]
     },
     "execution_count": 4,
     "metadata": {},
     "output_type": "execute_result"
    }
   ],
   "source": [
    "data.duplicated(['PERMNO', 'DATE']).sum()"
   ]
  },
  {
   "cell_type": "markdown",
   "metadata": {},
   "source": [
    "among duplicates, choose the one with highest MV"
   ]
  },
  {
   "cell_type": "code",
   "execution_count": 5,
   "metadata": {
    "ExecuteTime": {
     "end_time": "2021-12-01T03:29:51.896746Z",
     "start_time": "2021-12-01T03:29:49.723883Z"
    }
   },
   "outputs": [
    {
     "data": {
      "text/plain": [
       "0"
      ]
     },
     "execution_count": 5,
     "metadata": {},
     "output_type": "execute_result"
    }
   ],
   "source": [
    "# Define MV\n",
    "data['MV']  = data['SHROUT'] * data['PRC']\n",
    "data = data.sort_values(by=['PERMNO', 'DATE', 'MV'])\n",
    "data = data.groupby(['PERMNO', 'DATE']).tail(1)\n",
    "data.duplicated(['PERMNO', 'DATE']).sum()"
   ]
  },
  {
   "cell_type": "markdown",
   "metadata": {},
   "source": [
    "## Individual Strategies"
   ]
  },
  {
   "cell_type": "markdown",
   "metadata": {},
   "source": [
    "### Reversal"
   ]
  },
  {
   "cell_type": "code",
   "execution_count": 6,
   "metadata": {
    "ExecuteTime": {
     "end_time": "2021-12-01T03:29:51.980207Z",
     "start_time": "2021-12-01T03:29:51.915981Z"
    }
   },
   "outputs": [],
   "source": [
    "df = data[['PERMNO','DATE','PRC','VOL','RET','SHROUT']].copy()"
   ]
  },
  {
   "cell_type": "code",
   "execution_count": 7,
   "metadata": {
    "ExecuteTime": {
     "end_time": "2021-12-01T03:29:52.033273Z",
     "start_time": "2021-12-01T03:29:52.005971Z"
    }
   },
   "outputs": [
    {
     "data": {
      "text/plain": [
       "PERMNO        0\n",
       "DATE          0\n",
       "PRC       68052\n",
       "VOL       52827\n",
       "RET       85893\n",
       "SHROUT    18610\n",
       "dtype: int64"
      ]
     },
     "execution_count": 7,
     "metadata": {},
     "output_type": "execute_result"
    }
   ],
   "source": [
    "df.isna().sum()"
   ]
  },
  {
   "cell_type": "markdown",
   "metadata": {},
   "source": [
    "drop the missing returns"
   ]
  },
  {
   "cell_type": "code",
   "execution_count": 8,
   "metadata": {
    "ExecuteTime": {
     "end_time": "2021-12-01T03:29:52.121181Z",
     "start_time": "2021-12-01T03:29:52.059452Z"
    }
   },
   "outputs": [
    {
     "data": {
      "text/plain": [
       "PERMNO    0\n",
       "DATE      0\n",
       "PRC       0\n",
       "VOL       0\n",
       "RET       0\n",
       "SHROUT    0\n",
       "dtype: int64"
      ]
     },
     "execution_count": 8,
     "metadata": {},
     "output_type": "execute_result"
    }
   ],
   "source": [
    "df.dropna(subset=['RET'], inplace=True)\n",
    "df.isna().sum()"
   ]
  },
  {
   "cell_type": "markdown",
   "metadata": {},
   "source": [
    "re_index the dataframe based on each ETF as a group "
   ]
  },
  {
   "cell_type": "code",
   "execution_count": 9,
   "metadata": {
    "ExecuteTime": {
     "end_time": "2021-12-01T03:29:52.237268Z",
     "start_time": "2021-12-01T03:29:52.146714Z"
    }
   },
   "outputs": [
    {
     "data": {
      "text/html": [
       "<div>\n",
       "<style scoped>\n",
       "    .dataframe tbody tr th:only-of-type {\n",
       "        vertical-align: middle;\n",
       "    }\n",
       "\n",
       "    .dataframe tbody tr th {\n",
       "        vertical-align: top;\n",
       "    }\n",
       "\n",
       "    .dataframe thead th {\n",
       "        text-align: right;\n",
       "    }\n",
       "</style>\n",
       "<table border=\"1\" class=\"dataframe\">\n",
       "  <thead>\n",
       "    <tr style=\"text-align: right;\">\n",
       "      <th></th>\n",
       "      <th></th>\n",
       "      <th>PRC</th>\n",
       "      <th>VOL</th>\n",
       "      <th>RET</th>\n",
       "      <th>SHROUT</th>\n",
       "    </tr>\n",
       "    <tr>\n",
       "      <th>PERMNO</th>\n",
       "      <th>DATE</th>\n",
       "      <th></th>\n",
       "      <th></th>\n",
       "      <th></th>\n",
       "      <th></th>\n",
       "    </tr>\n",
       "  </thead>\n",
       "  <tbody>\n",
       "    <tr>\n",
       "      <th rowspan=\"5\" valign=\"top\">10001.0</th>\n",
       "      <th>1993-01-29</th>\n",
       "      <td>-14.000000</td>\n",
       "      <td>44.0</td>\n",
       "      <td>0.000000</td>\n",
       "      <td>1080.0</td>\n",
       "    </tr>\n",
       "    <tr>\n",
       "      <th>1993-02-26</th>\n",
       "      <td>14.250000</td>\n",
       "      <td>23.0</td>\n",
       "      <td>0.017857</td>\n",
       "      <td>1080.0</td>\n",
       "    </tr>\n",
       "    <tr>\n",
       "      <th>1993-03-31</th>\n",
       "      <td>14.250000</td>\n",
       "      <td>137.0</td>\n",
       "      <td>0.011053</td>\n",
       "      <td>1075.0</td>\n",
       "    </tr>\n",
       "    <tr>\n",
       "      <th>1993-04-30</th>\n",
       "      <td>-15.250000</td>\n",
       "      <td>473.0</td>\n",
       "      <td>0.070175</td>\n",
       "      <td>1075.0</td>\n",
       "    </tr>\n",
       "    <tr>\n",
       "      <th>1993-05-28</th>\n",
       "      <td>-15.125000</td>\n",
       "      <td>126.0</td>\n",
       "      <td>-0.008197</td>\n",
       "      <td>1075.0</td>\n",
       "    </tr>\n",
       "    <tr>\n",
       "      <th>...</th>\n",
       "      <th>...</th>\n",
       "      <td>...</td>\n",
       "      <td>...</td>\n",
       "      <td>...</td>\n",
       "      <td>...</td>\n",
       "    </tr>\n",
       "    <tr>\n",
       "      <th rowspan=\"5\" valign=\"top\">93436.0</th>\n",
       "      <th>2020-08-31</th>\n",
       "      <td>498.320007</td>\n",
       "      <td>4051970.0</td>\n",
       "      <td>0.741452</td>\n",
       "      <td>931809.0</td>\n",
       "    </tr>\n",
       "    <tr>\n",
       "      <th>2020-09-30</th>\n",
       "      <td>429.010010</td>\n",
       "      <td>17331954.0</td>\n",
       "      <td>-0.139087</td>\n",
       "      <td>948000.0</td>\n",
       "    </tr>\n",
       "    <tr>\n",
       "      <th>2020-10-30</th>\n",
       "      <td>388.040009</td>\n",
       "      <td>8330610.0</td>\n",
       "      <td>-0.095499</td>\n",
       "      <td>947901.0</td>\n",
       "    </tr>\n",
       "    <tr>\n",
       "      <th>2020-11-30</th>\n",
       "      <td>567.599976</td>\n",
       "      <td>7811501.0</td>\n",
       "      <td>0.462736</td>\n",
       "      <td>947901.0</td>\n",
       "    </tr>\n",
       "    <tr>\n",
       "      <th>2020-12-31</th>\n",
       "      <td>705.669983</td>\n",
       "      <td>11962716.0</td>\n",
       "      <td>0.243252</td>\n",
       "      <td>947901.0</td>\n",
       "    </tr>\n",
       "  </tbody>\n",
       "</table>\n",
       "<p>2471978 rows × 4 columns</p>\n",
       "</div>"
      ],
      "text/plain": [
       "                           PRC         VOL       RET    SHROUT\n",
       "PERMNO  DATE                                                  \n",
       "10001.0 1993-01-29  -14.000000        44.0  0.000000    1080.0\n",
       "        1993-02-26   14.250000        23.0  0.017857    1080.0\n",
       "        1993-03-31   14.250000       137.0  0.011053    1075.0\n",
       "        1993-04-30  -15.250000       473.0  0.070175    1075.0\n",
       "        1993-05-28  -15.125000       126.0 -0.008197    1075.0\n",
       "...                        ...         ...       ...       ...\n",
       "93436.0 2020-08-31  498.320007   4051970.0  0.741452  931809.0\n",
       "        2020-09-30  429.010010  17331954.0 -0.139087  948000.0\n",
       "        2020-10-30  388.040009   8330610.0 -0.095499  947901.0\n",
       "        2020-11-30  567.599976   7811501.0  0.462736  947901.0\n",
       "        2020-12-31  705.669983  11962716.0  0.243252  947901.0\n",
       "\n",
       "[2471978 rows x 4 columns]"
      ]
     },
     "execution_count": 9,
     "metadata": {},
     "output_type": "execute_result"
    }
   ],
   "source": [
    "df = df.set_index(['PERMNO','DATE'])\n",
    "df"
   ]
  },
  {
   "cell_type": "markdown",
   "metadata": {},
   "source": [
    "compute the moving average return of past $N$ days"
   ]
  },
  {
   "cell_type": "code",
   "execution_count": 10,
   "metadata": {
    "ExecuteTime": {
     "end_time": "2021-12-01T03:30:44.265173Z",
     "start_time": "2021-12-01T03:29:52.359680Z"
    }
   },
   "outputs": [
    {
     "name": "stdout",
     "output_type": "stream",
     "text": [
      "Moving Average window size 1 done.\n",
      "Moving Average window size 2 done.\n",
      "Moving Average window size 3 done.\n",
      "Moving Average window size 4 done.\n",
      "Moving Average window size 5 done.\n",
      "Moving Average window size 6 done.\n",
      "Moving Average window size 7 done.\n",
      "Moving Average window size 8 done.\n",
      "Moving Average window size 9 done.\n",
      "Moving Average window size 10 done.\n"
     ]
    }
   ],
   "source": [
    "N_range = range(1,11)\n",
    "for N in N_range:\n",
    "    df[f'ret_ma{N}'] = df.groupby('PERMNO')['RET'].apply(lambda x: x.rolling(N).mean())\n",
    "    df[f'ret_ma{N}_lag'] = df[f'ret_ma{N}'].groupby('PERMNO').shift()\n",
    "    print(f'Moving Average window size {N} done.')"
   ]
  },
  {
   "cell_type": "code",
   "execution_count": 11,
   "metadata": {
    "ExecuteTime": {
     "end_time": "2021-12-01T03:30:45.100269Z",
     "start_time": "2021-12-01T03:30:45.085788Z"
    },
    "scrolled": true
   },
   "outputs": [
    {
     "data": {
      "text/html": [
       "<div>\n",
       "<style scoped>\n",
       "    .dataframe tbody tr th:only-of-type {\n",
       "        vertical-align: middle;\n",
       "    }\n",
       "\n",
       "    .dataframe tbody tr th {\n",
       "        vertical-align: top;\n",
       "    }\n",
       "\n",
       "    .dataframe thead th {\n",
       "        text-align: right;\n",
       "    }\n",
       "</style>\n",
       "<table border=\"1\" class=\"dataframe\">\n",
       "  <thead>\n",
       "    <tr style=\"text-align: right;\">\n",
       "      <th></th>\n",
       "      <th></th>\n",
       "      <th>PRC</th>\n",
       "      <th>VOL</th>\n",
       "      <th>RET</th>\n",
       "      <th>SHROUT</th>\n",
       "      <th>ret_ma1</th>\n",
       "      <th>ret_ma1_lag</th>\n",
       "      <th>ret_ma2</th>\n",
       "      <th>ret_ma2_lag</th>\n",
       "      <th>ret_ma3</th>\n",
       "      <th>ret_ma3_lag</th>\n",
       "      <th>...</th>\n",
       "      <th>ret_ma6</th>\n",
       "      <th>ret_ma6_lag</th>\n",
       "      <th>ret_ma7</th>\n",
       "      <th>ret_ma7_lag</th>\n",
       "      <th>ret_ma8</th>\n",
       "      <th>ret_ma8_lag</th>\n",
       "      <th>ret_ma9</th>\n",
       "      <th>ret_ma9_lag</th>\n",
       "      <th>ret_ma10</th>\n",
       "      <th>ret_ma10_lag</th>\n",
       "    </tr>\n",
       "    <tr>\n",
       "      <th>PERMNO</th>\n",
       "      <th>DATE</th>\n",
       "      <th></th>\n",
       "      <th></th>\n",
       "      <th></th>\n",
       "      <th></th>\n",
       "      <th></th>\n",
       "      <th></th>\n",
       "      <th></th>\n",
       "      <th></th>\n",
       "      <th></th>\n",
       "      <th></th>\n",
       "      <th></th>\n",
       "      <th></th>\n",
       "      <th></th>\n",
       "      <th></th>\n",
       "      <th></th>\n",
       "      <th></th>\n",
       "      <th></th>\n",
       "      <th></th>\n",
       "      <th></th>\n",
       "      <th></th>\n",
       "      <th></th>\n",
       "    </tr>\n",
       "  </thead>\n",
       "  <tbody>\n",
       "    <tr>\n",
       "      <th rowspan=\"5\" valign=\"top\">10001.0</th>\n",
       "      <th>1993-01-29</th>\n",
       "      <td>-14.000</td>\n",
       "      <td>44.0</td>\n",
       "      <td>0.000000</td>\n",
       "      <td>1080.0</td>\n",
       "      <td>0.000000</td>\n",
       "      <td>NaN</td>\n",
       "      <td>NaN</td>\n",
       "      <td>NaN</td>\n",
       "      <td>NaN</td>\n",
       "      <td>NaN</td>\n",
       "      <td>...</td>\n",
       "      <td>NaN</td>\n",
       "      <td>NaN</td>\n",
       "      <td>NaN</td>\n",
       "      <td>NaN</td>\n",
       "      <td>NaN</td>\n",
       "      <td>NaN</td>\n",
       "      <td>NaN</td>\n",
       "      <td>NaN</td>\n",
       "      <td>NaN</td>\n",
       "      <td>NaN</td>\n",
       "    </tr>\n",
       "    <tr>\n",
       "      <th>1993-02-26</th>\n",
       "      <td>14.250</td>\n",
       "      <td>23.0</td>\n",
       "      <td>0.017857</td>\n",
       "      <td>1080.0</td>\n",
       "      <td>0.017857</td>\n",
       "      <td>0.000000</td>\n",
       "      <td>0.008929</td>\n",
       "      <td>NaN</td>\n",
       "      <td>NaN</td>\n",
       "      <td>NaN</td>\n",
       "      <td>...</td>\n",
       "      <td>NaN</td>\n",
       "      <td>NaN</td>\n",
       "      <td>NaN</td>\n",
       "      <td>NaN</td>\n",
       "      <td>NaN</td>\n",
       "      <td>NaN</td>\n",
       "      <td>NaN</td>\n",
       "      <td>NaN</td>\n",
       "      <td>NaN</td>\n",
       "      <td>NaN</td>\n",
       "    </tr>\n",
       "    <tr>\n",
       "      <th>1993-03-31</th>\n",
       "      <td>14.250</td>\n",
       "      <td>137.0</td>\n",
       "      <td>0.011053</td>\n",
       "      <td>1075.0</td>\n",
       "      <td>0.011053</td>\n",
       "      <td>0.017857</td>\n",
       "      <td>0.014455</td>\n",
       "      <td>0.008929</td>\n",
       "      <td>0.009637</td>\n",
       "      <td>NaN</td>\n",
       "      <td>...</td>\n",
       "      <td>NaN</td>\n",
       "      <td>NaN</td>\n",
       "      <td>NaN</td>\n",
       "      <td>NaN</td>\n",
       "      <td>NaN</td>\n",
       "      <td>NaN</td>\n",
       "      <td>NaN</td>\n",
       "      <td>NaN</td>\n",
       "      <td>NaN</td>\n",
       "      <td>NaN</td>\n",
       "    </tr>\n",
       "    <tr>\n",
       "      <th>1993-04-30</th>\n",
       "      <td>-15.250</td>\n",
       "      <td>473.0</td>\n",
       "      <td>0.070175</td>\n",
       "      <td>1075.0</td>\n",
       "      <td>0.070175</td>\n",
       "      <td>0.011053</td>\n",
       "      <td>0.040614</td>\n",
       "      <td>0.014455</td>\n",
       "      <td>0.033028</td>\n",
       "      <td>0.009637</td>\n",
       "      <td>...</td>\n",
       "      <td>NaN</td>\n",
       "      <td>NaN</td>\n",
       "      <td>NaN</td>\n",
       "      <td>NaN</td>\n",
       "      <td>NaN</td>\n",
       "      <td>NaN</td>\n",
       "      <td>NaN</td>\n",
       "      <td>NaN</td>\n",
       "      <td>NaN</td>\n",
       "      <td>NaN</td>\n",
       "    </tr>\n",
       "    <tr>\n",
       "      <th>1993-05-28</th>\n",
       "      <td>-15.125</td>\n",
       "      <td>126.0</td>\n",
       "      <td>-0.008197</td>\n",
       "      <td>1075.0</td>\n",
       "      <td>-0.008197</td>\n",
       "      <td>0.070175</td>\n",
       "      <td>0.030989</td>\n",
       "      <td>0.040614</td>\n",
       "      <td>0.024344</td>\n",
       "      <td>0.033028</td>\n",
       "      <td>...</td>\n",
       "      <td>NaN</td>\n",
       "      <td>NaN</td>\n",
       "      <td>NaN</td>\n",
       "      <td>NaN</td>\n",
       "      <td>NaN</td>\n",
       "      <td>NaN</td>\n",
       "      <td>NaN</td>\n",
       "      <td>NaN</td>\n",
       "      <td>NaN</td>\n",
       "      <td>NaN</td>\n",
       "    </tr>\n",
       "  </tbody>\n",
       "</table>\n",
       "<p>5 rows × 24 columns</p>\n",
       "</div>"
      ],
      "text/plain": [
       "                       PRC    VOL       RET  SHROUT   ret_ma1  ret_ma1_lag  \\\n",
       "PERMNO  DATE                                                                 \n",
       "10001.0 1993-01-29 -14.000   44.0  0.000000  1080.0  0.000000          NaN   \n",
       "        1993-02-26  14.250   23.0  0.017857  1080.0  0.017857     0.000000   \n",
       "        1993-03-31  14.250  137.0  0.011053  1075.0  0.011053     0.017857   \n",
       "        1993-04-30 -15.250  473.0  0.070175  1075.0  0.070175     0.011053   \n",
       "        1993-05-28 -15.125  126.0 -0.008197  1075.0 -0.008197     0.070175   \n",
       "\n",
       "                     ret_ma2  ret_ma2_lag   ret_ma3  ret_ma3_lag  ...  \\\n",
       "PERMNO  DATE                                                      ...   \n",
       "10001.0 1993-01-29       NaN          NaN       NaN          NaN  ...   \n",
       "        1993-02-26  0.008929          NaN       NaN          NaN  ...   \n",
       "        1993-03-31  0.014455     0.008929  0.009637          NaN  ...   \n",
       "        1993-04-30  0.040614     0.014455  0.033028     0.009637  ...   \n",
       "        1993-05-28  0.030989     0.040614  0.024344     0.033028  ...   \n",
       "\n",
       "                    ret_ma6  ret_ma6_lag  ret_ma7  ret_ma7_lag  ret_ma8  \\\n",
       "PERMNO  DATE                                                              \n",
       "10001.0 1993-01-29      NaN          NaN      NaN          NaN      NaN   \n",
       "        1993-02-26      NaN          NaN      NaN          NaN      NaN   \n",
       "        1993-03-31      NaN          NaN      NaN          NaN      NaN   \n",
       "        1993-04-30      NaN          NaN      NaN          NaN      NaN   \n",
       "        1993-05-28      NaN          NaN      NaN          NaN      NaN   \n",
       "\n",
       "                    ret_ma8_lag  ret_ma9  ret_ma9_lag  ret_ma10  ret_ma10_lag  \n",
       "PERMNO  DATE                                                                   \n",
       "10001.0 1993-01-29          NaN      NaN          NaN       NaN           NaN  \n",
       "        1993-02-26          NaN      NaN          NaN       NaN           NaN  \n",
       "        1993-03-31          NaN      NaN          NaN       NaN           NaN  \n",
       "        1993-04-30          NaN      NaN          NaN       NaN           NaN  \n",
       "        1993-05-28          NaN      NaN          NaN       NaN           NaN  \n",
       "\n",
       "[5 rows x 24 columns]"
      ]
     },
     "execution_count": 11,
     "metadata": {},
     "output_type": "execute_result"
    }
   ],
   "source": [
    "df.head()"
   ]
  },
  {
   "cell_type": "markdown",
   "metadata": {},
   "source": [
    "check NAs resulted from df.shift()"
   ]
  },
  {
   "cell_type": "code",
   "execution_count": 12,
   "metadata": {
    "ExecuteTime": {
     "end_time": "2021-12-01T03:30:45.849399Z",
     "start_time": "2021-12-01T03:30:45.785544Z"
    }
   },
   "outputs": [
    {
     "data": {
      "text/plain": [
       "PRC                  0\n",
       "VOL                  0\n",
       "RET                  0\n",
       "SHROUT               0\n",
       "ret_ma1              0\n",
       "ret_ma1_lag      24089\n",
       "ret_ma2          24089\n",
       "ret_ma2_lag      48040\n",
       "ret_ma3          48040\n",
       "ret_ma3_lag      71822\n",
       "ret_ma4          71822\n",
       "ret_ma4_lag      95474\n",
       "ret_ma5          95474\n",
       "ret_ma5_lag     119028\n",
       "ret_ma6         119028\n",
       "ret_ma6_lag     142454\n",
       "ret_ma7         142454\n",
       "ret_ma7_lag     165735\n",
       "ret_ma8         165735\n",
       "ret_ma8_lag     188890\n",
       "ret_ma9         188890\n",
       "ret_ma9_lag     211898\n",
       "ret_ma10        211898\n",
       "ret_ma10_lag    234778\n",
       "dtype: int64"
      ]
     },
     "execution_count": 12,
     "metadata": {},
     "output_type": "execute_result"
    }
   ],
   "source": [
    "df.isna().sum()"
   ]
  },
  {
   "cell_type": "markdown",
   "metadata": {},
   "source": [
    "play a more conversative way: \n",
    "\n",
    "in order to get a more complete list of ranks, drop the missing values when calculating quantiles based on different past *N* days rather than the biggest *N* day right now"
   ]
  },
  {
   "cell_type": "markdown",
   "metadata": {},
   "source": [
    "reorder index levels, otherwise *ValueError: cannot handle a non-unique multi-index!*"
   ]
  },
  {
   "cell_type": "code",
   "execution_count": 13,
   "metadata": {
    "ExecuteTime": {
     "end_time": "2021-12-01T03:30:47.712862Z",
     "start_time": "2021-12-01T03:30:46.542243Z"
    }
   },
   "outputs": [],
   "source": [
    "df = df.reorder_levels(['DATE', 'PERMNO'])\n",
    "df.sort_index(inplace=True)"
   ]
  },
  {
   "cell_type": "code",
   "execution_count": 14,
   "metadata": {
    "ExecuteTime": {
     "end_time": "2021-12-01T03:30:48.697891Z",
     "start_time": "2021-12-01T03:30:48.243168Z"
    }
   },
   "outputs": [
    {
     "data": {
      "text/html": [
       "<div>\n",
       "<style scoped>\n",
       "    .dataframe tbody tr th:only-of-type {\n",
       "        vertical-align: middle;\n",
       "    }\n",
       "\n",
       "    .dataframe tbody tr th {\n",
       "        vertical-align: top;\n",
       "    }\n",
       "\n",
       "    .dataframe thead th {\n",
       "        text-align: right;\n",
       "    }\n",
       "</style>\n",
       "<table border=\"1\" class=\"dataframe\">\n",
       "  <thead>\n",
       "    <tr style=\"text-align: right;\">\n",
       "      <th></th>\n",
       "      <th></th>\n",
       "      <th>PRC</th>\n",
       "      <th>VOL</th>\n",
       "      <th>RET</th>\n",
       "      <th>SHROUT</th>\n",
       "      <th>ret_ma1</th>\n",
       "      <th>ret_ma1_lag</th>\n",
       "      <th>ret_ma2</th>\n",
       "      <th>ret_ma2_lag</th>\n",
       "      <th>ret_ma3</th>\n",
       "      <th>ret_ma3_lag</th>\n",
       "      <th>...</th>\n",
       "      <th>ret_ma6</th>\n",
       "      <th>ret_ma6_lag</th>\n",
       "      <th>ret_ma7</th>\n",
       "      <th>ret_ma7_lag</th>\n",
       "      <th>ret_ma8</th>\n",
       "      <th>ret_ma8_lag</th>\n",
       "      <th>ret_ma9</th>\n",
       "      <th>ret_ma9_lag</th>\n",
       "      <th>ret_ma10</th>\n",
       "      <th>ret_ma10_lag</th>\n",
       "    </tr>\n",
       "    <tr>\n",
       "      <th>DATE</th>\n",
       "      <th>PERMNO</th>\n",
       "      <th></th>\n",
       "      <th></th>\n",
       "      <th></th>\n",
       "      <th></th>\n",
       "      <th></th>\n",
       "      <th></th>\n",
       "      <th></th>\n",
       "      <th></th>\n",
       "      <th></th>\n",
       "      <th></th>\n",
       "      <th></th>\n",
       "      <th></th>\n",
       "      <th></th>\n",
       "      <th></th>\n",
       "      <th></th>\n",
       "      <th></th>\n",
       "      <th></th>\n",
       "      <th></th>\n",
       "      <th></th>\n",
       "      <th></th>\n",
       "      <th></th>\n",
       "    </tr>\n",
       "  </thead>\n",
       "  <tbody>\n",
       "    <tr>\n",
       "      <th rowspan=\"5\" valign=\"top\">1993-01-29</th>\n",
       "      <th>10001.0</th>\n",
       "      <td>-14.000000</td>\n",
       "      <td>44.0</td>\n",
       "      <td>0.000000</td>\n",
       "      <td>1080.0</td>\n",
       "      <td>0.000000</td>\n",
       "      <td>NaN</td>\n",
       "      <td>NaN</td>\n",
       "      <td>NaN</td>\n",
       "      <td>NaN</td>\n",
       "      <td>NaN</td>\n",
       "      <td>...</td>\n",
       "      <td>NaN</td>\n",
       "      <td>NaN</td>\n",
       "      <td>NaN</td>\n",
       "      <td>NaN</td>\n",
       "      <td>NaN</td>\n",
       "      <td>NaN</td>\n",
       "      <td>NaN</td>\n",
       "      <td>NaN</td>\n",
       "      <td>NaN</td>\n",
       "      <td>NaN</td>\n",
       "    </tr>\n",
       "    <tr>\n",
       "      <th>10002.0</th>\n",
       "      <td>-9.500000</td>\n",
       "      <td>19.0</td>\n",
       "      <td>0.055556</td>\n",
       "      <td>1442.0</td>\n",
       "      <td>0.055556</td>\n",
       "      <td>NaN</td>\n",
       "      <td>NaN</td>\n",
       "      <td>NaN</td>\n",
       "      <td>NaN</td>\n",
       "      <td>NaN</td>\n",
       "      <td>...</td>\n",
       "      <td>NaN</td>\n",
       "      <td>NaN</td>\n",
       "      <td>NaN</td>\n",
       "      <td>NaN</td>\n",
       "      <td>NaN</td>\n",
       "      <td>NaN</td>\n",
       "      <td>NaN</td>\n",
       "      <td>NaN</td>\n",
       "      <td>NaN</td>\n",
       "      <td>NaN</td>\n",
       "    </tr>\n",
       "    <tr>\n",
       "      <th>10003.0</th>\n",
       "      <td>4.750000</td>\n",
       "      <td>1944.0</td>\n",
       "      <td>0.225806</td>\n",
       "      <td>2194.0</td>\n",
       "      <td>0.225806</td>\n",
       "      <td>NaN</td>\n",
       "      <td>NaN</td>\n",
       "      <td>NaN</td>\n",
       "      <td>NaN</td>\n",
       "      <td>NaN</td>\n",
       "      <td>...</td>\n",
       "      <td>NaN</td>\n",
       "      <td>NaN</td>\n",
       "      <td>NaN</td>\n",
       "      <td>NaN</td>\n",
       "      <td>NaN</td>\n",
       "      <td>NaN</td>\n",
       "      <td>NaN</td>\n",
       "      <td>NaN</td>\n",
       "      <td>NaN</td>\n",
       "      <td>NaN</td>\n",
       "    </tr>\n",
       "    <tr>\n",
       "      <th>10009.0</th>\n",
       "      <td>13.000000</td>\n",
       "      <td>495.0</td>\n",
       "      <td>0.061224</td>\n",
       "      <td>1158.0</td>\n",
       "      <td>0.061224</td>\n",
       "      <td>NaN</td>\n",
       "      <td>NaN</td>\n",
       "      <td>NaN</td>\n",
       "      <td>NaN</td>\n",
       "      <td>NaN</td>\n",
       "      <td>...</td>\n",
       "      <td>NaN</td>\n",
       "      <td>NaN</td>\n",
       "      <td>NaN</td>\n",
       "      <td>NaN</td>\n",
       "      <td>NaN</td>\n",
       "      <td>NaN</td>\n",
       "      <td>NaN</td>\n",
       "      <td>NaN</td>\n",
       "      <td>NaN</td>\n",
       "      <td>NaN</td>\n",
       "    </tr>\n",
       "    <tr>\n",
       "      <th>10010.0</th>\n",
       "      <td>12.000000</td>\n",
       "      <td>23860.0</td>\n",
       "      <td>0.010526</td>\n",
       "      <td>7948.0</td>\n",
       "      <td>0.010526</td>\n",
       "      <td>NaN</td>\n",
       "      <td>NaN</td>\n",
       "      <td>NaN</td>\n",
       "      <td>NaN</td>\n",
       "      <td>NaN</td>\n",
       "      <td>...</td>\n",
       "      <td>NaN</td>\n",
       "      <td>NaN</td>\n",
       "      <td>NaN</td>\n",
       "      <td>NaN</td>\n",
       "      <td>NaN</td>\n",
       "      <td>NaN</td>\n",
       "      <td>NaN</td>\n",
       "      <td>NaN</td>\n",
       "      <td>NaN</td>\n",
       "      <td>NaN</td>\n",
       "    </tr>\n",
       "    <tr>\n",
       "      <th>...</th>\n",
       "      <th>...</th>\n",
       "      <td>...</td>\n",
       "      <td>...</td>\n",
       "      <td>...</td>\n",
       "      <td>...</td>\n",
       "      <td>...</td>\n",
       "      <td>...</td>\n",
       "      <td>...</td>\n",
       "      <td>...</td>\n",
       "      <td>...</td>\n",
       "      <td>...</td>\n",
       "      <td>...</td>\n",
       "      <td>...</td>\n",
       "      <td>...</td>\n",
       "      <td>...</td>\n",
       "      <td>...</td>\n",
       "      <td>...</td>\n",
       "      <td>...</td>\n",
       "      <td>...</td>\n",
       "      <td>...</td>\n",
       "      <td>...</td>\n",
       "      <td>...</td>\n",
       "    </tr>\n",
       "    <tr>\n",
       "      <th rowspan=\"5\" valign=\"top\">2020-12-31</th>\n",
       "      <th>93426.0</th>\n",
       "      <td>31.480000</td>\n",
       "      <td>12527.0</td>\n",
       "      <td>0.076239</td>\n",
       "      <td>12552.0</td>\n",
       "      <td>0.076239</td>\n",
       "      <td>0.224362</td>\n",
       "      <td>0.150300</td>\n",
       "      <td>0.083942</td>\n",
       "      <td>0.081375</td>\n",
       "      <td>0.061448</td>\n",
       "      <td>...</td>\n",
       "      <td>0.045793</td>\n",
       "      <td>0.039861</td>\n",
       "      <td>0.045058</td>\n",
       "      <td>0.037256</td>\n",
       "      <td>0.042129</td>\n",
       "      <td>0.051523</td>\n",
       "      <td>0.054269</td>\n",
       "      <td>0.015907</td>\n",
       "      <td>0.021940</td>\n",
       "      <td>-0.006153</td>\n",
       "    </tr>\n",
       "    <tr>\n",
       "      <th>93427.0</th>\n",
       "      <td>77.589996</td>\n",
       "      <td>40249.0</td>\n",
       "      <td>0.135851</td>\n",
       "      <td>36938.0</td>\n",
       "      <td>0.135851</td>\n",
       "      <td>0.138121</td>\n",
       "      <td>0.136986</td>\n",
       "      <td>0.045183</td>\n",
       "      <td>0.075406</td>\n",
       "      <td>-0.002122</td>\n",
       "      <td>...</td>\n",
       "      <td>0.042302</td>\n",
       "      <td>0.015698</td>\n",
       "      <td>0.032863</td>\n",
       "      <td>0.016165</td>\n",
       "      <td>0.031126</td>\n",
       "      <td>0.032908</td>\n",
       "      <td>0.044346</td>\n",
       "      <td>0.028123</td>\n",
       "      <td>0.038896</td>\n",
       "      <td>0.012747</td>\n",
       "    </tr>\n",
       "    <tr>\n",
       "      <th>93429.0</th>\n",
       "      <td>93.120003</td>\n",
       "      <td>167295.0</td>\n",
       "      <td>0.019711</td>\n",
       "      <td>108042.0</td>\n",
       "      <td>0.019711</td>\n",
       "      <td>0.128552</td>\n",
       "      <td>0.074132</td>\n",
       "      <td>0.027520</td>\n",
       "      <td>0.024917</td>\n",
       "      <td>0.003639</td>\n",
       "      <td>...</td>\n",
       "      <td>0.003706</td>\n",
       "      <td>-0.020213</td>\n",
       "      <td>-0.014510</td>\n",
       "      <td>-0.006631</td>\n",
       "      <td>-0.003338</td>\n",
       "      <td>0.008386</td>\n",
       "      <td>0.009644</td>\n",
       "      <td>-0.016669</td>\n",
       "      <td>-0.013031</td>\n",
       "      <td>-0.022192</td>\n",
       "    </tr>\n",
       "    <tr>\n",
       "      <th>93434.0</th>\n",
       "      <td>2.930000</td>\n",
       "      <td>21454.0</td>\n",
       "      <td>0.122605</td>\n",
       "      <td>33482.0</td>\n",
       "      <td>0.122605</td>\n",
       "      <td>0.144737</td>\n",
       "      <td>0.133671</td>\n",
       "      <td>0.032046</td>\n",
       "      <td>0.062232</td>\n",
       "      <td>0.039804</td>\n",
       "      <td>...</td>\n",
       "      <td>0.045422</td>\n",
       "      <td>0.036724</td>\n",
       "      <td>0.048993</td>\n",
       "      <td>0.048771</td>\n",
       "      <td>0.058001</td>\n",
       "      <td>0.033529</td>\n",
       "      <td>0.043426</td>\n",
       "      <td>-0.004095</td>\n",
       "      <td>0.008575</td>\n",
       "      <td>0.033524</td>\n",
       "    </tr>\n",
       "    <tr>\n",
       "      <th>93436.0</th>\n",
       "      <td>705.669983</td>\n",
       "      <td>11962716.0</td>\n",
       "      <td>0.243252</td>\n",
       "      <td>947901.0</td>\n",
       "      <td>0.243252</td>\n",
       "      <td>0.462736</td>\n",
       "      <td>0.352994</td>\n",
       "      <td>0.183618</td>\n",
       "      <td>0.203496</td>\n",
       "      <td>0.076050</td>\n",
       "      <td>...</td>\n",
       "      <td>0.256311</td>\n",
       "      <td>0.264633</td>\n",
       "      <td>0.261579</td>\n",
       "      <td>0.236534</td>\n",
       "      <td>0.237374</td>\n",
       "      <td>0.268484</td>\n",
       "      <td>0.265681</td>\n",
       "      <td>0.214702</td>\n",
       "      <td>0.217557</td>\n",
       "      <td>0.195909</td>\n",
       "    </tr>\n",
       "  </tbody>\n",
       "</table>\n",
       "<p>2471978 rows × 24 columns</p>\n",
       "</div>"
      ],
      "text/plain": [
       "                           PRC         VOL       RET    SHROUT   ret_ma1  \\\n",
       "DATE       PERMNO                                                          \n",
       "1993-01-29 10001.0  -14.000000        44.0  0.000000    1080.0  0.000000   \n",
       "           10002.0   -9.500000        19.0  0.055556    1442.0  0.055556   \n",
       "           10003.0    4.750000      1944.0  0.225806    2194.0  0.225806   \n",
       "           10009.0   13.000000       495.0  0.061224    1158.0  0.061224   \n",
       "           10010.0   12.000000     23860.0  0.010526    7948.0  0.010526   \n",
       "...                        ...         ...       ...       ...       ...   \n",
       "2020-12-31 93426.0   31.480000     12527.0  0.076239   12552.0  0.076239   \n",
       "           93427.0   77.589996     40249.0  0.135851   36938.0  0.135851   \n",
       "           93429.0   93.120003    167295.0  0.019711  108042.0  0.019711   \n",
       "           93434.0    2.930000     21454.0  0.122605   33482.0  0.122605   \n",
       "           93436.0  705.669983  11962716.0  0.243252  947901.0  0.243252   \n",
       "\n",
       "                    ret_ma1_lag   ret_ma2  ret_ma2_lag   ret_ma3  ret_ma3_lag  \\\n",
       "DATE       PERMNO                                                               \n",
       "1993-01-29 10001.0          NaN       NaN          NaN       NaN          NaN   \n",
       "           10002.0          NaN       NaN          NaN       NaN          NaN   \n",
       "           10003.0          NaN       NaN          NaN       NaN          NaN   \n",
       "           10009.0          NaN       NaN          NaN       NaN          NaN   \n",
       "           10010.0          NaN       NaN          NaN       NaN          NaN   \n",
       "...                         ...       ...          ...       ...          ...   \n",
       "2020-12-31 93426.0     0.224362  0.150300     0.083942  0.081375     0.061448   \n",
       "           93427.0     0.138121  0.136986     0.045183  0.075406    -0.002122   \n",
       "           93429.0     0.128552  0.074132     0.027520  0.024917     0.003639   \n",
       "           93434.0     0.144737  0.133671     0.032046  0.062232     0.039804   \n",
       "           93436.0     0.462736  0.352994     0.183618  0.203496     0.076050   \n",
       "\n",
       "                    ...   ret_ma6  ret_ma6_lag   ret_ma7  ret_ma7_lag  \\\n",
       "DATE       PERMNO   ...                                                 \n",
       "1993-01-29 10001.0  ...       NaN          NaN       NaN          NaN   \n",
       "           10002.0  ...       NaN          NaN       NaN          NaN   \n",
       "           10003.0  ...       NaN          NaN       NaN          NaN   \n",
       "           10009.0  ...       NaN          NaN       NaN          NaN   \n",
       "           10010.0  ...       NaN          NaN       NaN          NaN   \n",
       "...                 ...       ...          ...       ...          ...   \n",
       "2020-12-31 93426.0  ...  0.045793     0.039861  0.045058     0.037256   \n",
       "           93427.0  ...  0.042302     0.015698  0.032863     0.016165   \n",
       "           93429.0  ...  0.003706    -0.020213 -0.014510    -0.006631   \n",
       "           93434.0  ...  0.045422     0.036724  0.048993     0.048771   \n",
       "           93436.0  ...  0.256311     0.264633  0.261579     0.236534   \n",
       "\n",
       "                     ret_ma8  ret_ma8_lag   ret_ma9  ret_ma9_lag  ret_ma10  \\\n",
       "DATE       PERMNO                                                            \n",
       "1993-01-29 10001.0       NaN          NaN       NaN          NaN       NaN   \n",
       "           10002.0       NaN          NaN       NaN          NaN       NaN   \n",
       "           10003.0       NaN          NaN       NaN          NaN       NaN   \n",
       "           10009.0       NaN          NaN       NaN          NaN       NaN   \n",
       "           10010.0       NaN          NaN       NaN          NaN       NaN   \n",
       "...                      ...          ...       ...          ...       ...   \n",
       "2020-12-31 93426.0  0.042129     0.051523  0.054269     0.015907  0.021940   \n",
       "           93427.0  0.031126     0.032908  0.044346     0.028123  0.038896   \n",
       "           93429.0 -0.003338     0.008386  0.009644    -0.016669 -0.013031   \n",
       "           93434.0  0.058001     0.033529  0.043426    -0.004095  0.008575   \n",
       "           93436.0  0.237374     0.268484  0.265681     0.214702  0.217557   \n",
       "\n",
       "                    ret_ma10_lag  \n",
       "DATE       PERMNO                 \n",
       "1993-01-29 10001.0           NaN  \n",
       "           10002.0           NaN  \n",
       "           10003.0           NaN  \n",
       "           10009.0           NaN  \n",
       "           10010.0           NaN  \n",
       "...                          ...  \n",
       "2020-12-31 93426.0     -0.006153  \n",
       "           93427.0      0.012747  \n",
       "           93429.0     -0.022192  \n",
       "           93434.0      0.033524  \n",
       "           93436.0      0.195909  \n",
       "\n",
       "[2471978 rows x 24 columns]"
      ]
     },
     "execution_count": 14,
     "metadata": {},
     "output_type": "execute_result"
    }
   ],
   "source": [
    "df"
   ]
  },
  {
   "cell_type": "code",
   "execution_count": 15,
   "metadata": {
    "ExecuteTime": {
     "end_time": "2021-12-01T03:30:49.297827Z",
     "start_time": "2021-12-01T03:30:49.295089Z"
    }
   },
   "outputs": [
    {
     "data": {
      "text/plain": [
       "2471978"
      ]
     },
     "execution_count": 15,
     "metadata": {},
     "output_type": "execute_result"
    }
   ],
   "source": [
    "len_df = len(df)\n",
    "len_df"
   ]
  },
  {
   "cell_type": "markdown",
   "metadata": {},
   "source": [
    "#### Strategy Analysis"
   ]
  },
  {
   "cell_type": "markdown",
   "metadata": {},
   "source": [
    "For the reversal strategy, we calculate the quantile based on past returns.\n",
    "\n",
    "In order to check the feasibility of reversal strategy on ALL ETFs, \n",
    "we first check its performance using backtest."
   ]
  },
  {
   "cell_type": "code",
   "execution_count": 16,
   "metadata": {
    "ExecuteTime": {
     "end_time": "2021-12-01T03:30:49.912189Z",
     "start_time": "2021-12-01T03:30:49.905621Z"
    }
   },
   "outputs": [],
   "source": [
    "def strategy_analysis(data, q=5, N=5, crit_etf=slice(None)):\n",
    "    def quantile(inser, q):\n",
    "        return pd.qcut(inser, q, labels=range(1, q+1), duplicates='drop')\n",
    "\n",
    "    crit_ret = f'ret_ma{N}_lag'\n",
    "    tmp = data.loc[crit_etf].copy()\n",
    "    tmp = tmp[['PRC', 'VOL', 'RET', 'SHROUT', crit_ret]]\n",
    "    # drop missing values\n",
    "    tmp.dropna(subset=[f'ret_ma{N}_lag'], inplace=True)\n",
    "    assert tmp.isna().sum().sum()==0, 'Missing Values exist!'\n",
    "    \n",
    "    tmp['quantile'] = tmp[crit_ret].groupby('DATE').apply(quantile, q)\n",
    "    ports = tmp.groupby(['quantile','DATE'])['RET'].mean()\n",
    "    # Using reversal strategy\n",
    "    long_short = ports.loc[1] - ports.loc[q]\n",
    "    long_short = long_short.describe()\n",
    "    long_short['sharpe_annual'] = long_short['mean'] / long_short['std'] * np.sqrt(12)\n",
    "    long_short['tstat'] = long_short['mean'] / (long_short['std'] / np.sqrt(long_short['count']))\n",
    "    \n",
    "    return ports, long_short\n",
    "\n",
    "def param_tuning(data, q_range, N_range, crit_etf=slice(None)):\n",
    "    q_ranges, N_ranges, means, sharpes, tstats, significances = [], [], [], [], [], []\n",
    "    for q in q_range:\n",
    "        for N in N_range:\n",
    "            ports, long_short = strategy_analysis(data, q, N, crit_etf)\n",
    "            q_ranges.append(q)\n",
    "            N_ranges.append(N)\n",
    "            means.append(long_short['mean'])\n",
    "            sharpes.append(long_short['sharpe_annual'])\n",
    "            tstats.append(long_short['tstat'])\n",
    "            significances.append(abs(long_short['tstat'])>=1.96)\n",
    "    result_df = pd.DataFrame({'q': q_ranges, 'N': N_ranges, 'Mean': means,  \n",
    "                              'Sharpe_Annual': sharpes, 'tstat': tstats, \n",
    "                              'significance': significances})\n",
    "    return result_df"
   ]
  },
  {
   "cell_type": "markdown",
   "metadata": {},
   "source": [
    "Backtest for Tuning"
   ]
  },
  {
   "cell_type": "code",
   "execution_count": 17,
   "metadata": {
    "ExecuteTime": {
     "end_time": "2021-12-01T03:31:05.498326Z",
     "start_time": "2021-12-01T03:30:50.531299Z"
    }
   },
   "outputs": [
    {
     "data": {
      "text/html": [
       "<div>\n",
       "<style scoped>\n",
       "    .dataframe tbody tr th:only-of-type {\n",
       "        vertical-align: middle;\n",
       "    }\n",
       "\n",
       "    .dataframe tbody tr th {\n",
       "        vertical-align: top;\n",
       "    }\n",
       "\n",
       "    .dataframe thead th {\n",
       "        text-align: right;\n",
       "    }\n",
       "</style>\n",
       "<table border=\"1\" class=\"dataframe\">\n",
       "  <thead>\n",
       "    <tr style=\"text-align: right;\">\n",
       "      <th></th>\n",
       "      <th>q</th>\n",
       "      <th>N</th>\n",
       "      <th>Mean</th>\n",
       "      <th>Sharpe_Annual</th>\n",
       "      <th>tstat</th>\n",
       "      <th>significance</th>\n",
       "    </tr>\n",
       "  </thead>\n",
       "  <tbody>\n",
       "    <tr>\n",
       "      <th>0</th>\n",
       "      <td>2</td>\n",
       "      <td>1</td>\n",
       "      <td>0.003487</td>\n",
       "      <td>0.363527</td>\n",
       "      <td>1.920741</td>\n",
       "      <td>False</td>\n",
       "    </tr>\n",
       "    <tr>\n",
       "      <th>1</th>\n",
       "      <td>2</td>\n",
       "      <td>2</td>\n",
       "      <td>0.002155</td>\n",
       "      <td>0.206336</td>\n",
       "      <td>1.088574</td>\n",
       "      <td>False</td>\n",
       "    </tr>\n",
       "    <tr>\n",
       "      <th>2</th>\n",
       "      <td>2</td>\n",
       "      <td>3</td>\n",
       "      <td>0.000306</td>\n",
       "      <td>0.029382</td>\n",
       "      <td>0.154778</td>\n",
       "      <td>False</td>\n",
       "    </tr>\n",
       "    <tr>\n",
       "      <th>3</th>\n",
       "      <td>3</td>\n",
       "      <td>1</td>\n",
       "      <td>0.005337</td>\n",
       "      <td>0.404563</td>\n",
       "      <td>2.137558</td>\n",
       "      <td>True</td>\n",
       "    </tr>\n",
       "    <tr>\n",
       "      <th>4</th>\n",
       "      <td>3</td>\n",
       "      <td>2</td>\n",
       "      <td>0.003081</td>\n",
       "      <td>0.214593</td>\n",
       "      <td>1.132133</td>\n",
       "      <td>False</td>\n",
       "    </tr>\n",
       "    <tr>\n",
       "      <th>5</th>\n",
       "      <td>3</td>\n",
       "      <td>3</td>\n",
       "      <td>0.000591</td>\n",
       "      <td>0.040947</td>\n",
       "      <td>0.215701</td>\n",
       "      <td>False</td>\n",
       "    </tr>\n",
       "    <tr>\n",
       "      <th>6</th>\n",
       "      <td>4</td>\n",
       "      <td>1</td>\n",
       "      <td>0.006962</td>\n",
       "      <td>0.447410</td>\n",
       "      <td>2.363945</td>\n",
       "      <td>True</td>\n",
       "    </tr>\n",
       "    <tr>\n",
       "      <th>7</th>\n",
       "      <td>4</td>\n",
       "      <td>2</td>\n",
       "      <td>0.004360</td>\n",
       "      <td>0.258138</td>\n",
       "      <td>1.361867</td>\n",
       "      <td>False</td>\n",
       "    </tr>\n",
       "    <tr>\n",
       "      <th>8</th>\n",
       "      <td>4</td>\n",
       "      <td>3</td>\n",
       "      <td>0.001218</td>\n",
       "      <td>0.071905</td>\n",
       "      <td>0.378783</td>\n",
       "      <td>False</td>\n",
       "    </tr>\n",
       "    <tr>\n",
       "      <th>9</th>\n",
       "      <td>5</td>\n",
       "      <td>1</td>\n",
       "      <td>0.008643</td>\n",
       "      <td>0.499201</td>\n",
       "      <td>2.637589</td>\n",
       "      <td>True</td>\n",
       "    </tr>\n",
       "    <tr>\n",
       "      <th>10</th>\n",
       "      <td>5</td>\n",
       "      <td>2</td>\n",
       "      <td>0.005562</td>\n",
       "      <td>0.296939</td>\n",
       "      <td>1.566568</td>\n",
       "      <td>False</td>\n",
       "    </tr>\n",
       "    <tr>\n",
       "      <th>11</th>\n",
       "      <td>5</td>\n",
       "      <td>3</td>\n",
       "      <td>0.002175</td>\n",
       "      <td>0.116258</td>\n",
       "      <td>0.612424</td>\n",
       "      <td>False</td>\n",
       "    </tr>\n",
       "  </tbody>\n",
       "</table>\n",
       "</div>"
      ],
      "text/plain": [
       "    q  N      Mean  Sharpe_Annual     tstat  significance\n",
       "0   2  1  0.003487       0.363527  1.920741         False\n",
       "1   2  2  0.002155       0.206336  1.088574         False\n",
       "2   2  3  0.000306       0.029382  0.154778         False\n",
       "3   3  1  0.005337       0.404563  2.137558          True\n",
       "4   3  2  0.003081       0.214593  1.132133         False\n",
       "5   3  3  0.000591       0.040947  0.215701         False\n",
       "6   4  1  0.006962       0.447410  2.363945          True\n",
       "7   4  2  0.004360       0.258138  1.361867         False\n",
       "8   4  3  0.001218       0.071905  0.378783         False\n",
       "9   5  1  0.008643       0.499201  2.637589          True\n",
       "10  5  2  0.005562       0.296939  1.566568         False\n",
       "11  5  3  0.002175       0.116258  0.612424         False"
      ]
     },
     "execution_count": 17,
     "metadata": {},
     "output_type": "execute_result"
    }
   ],
   "source": [
    "param_tuning(df, q_range=range(2,6), N_range=range(1,4))"
   ]
  },
  {
   "cell_type": "markdown",
   "metadata": {},
   "source": [
    "**Insights:** \n",
    "\n",
    "(1) large *N* leads to un-significant results, thus testing on small *N*s\n",
    "\n",
    "(2) large *q* leads to higher returns, thus testing on larger *q*s"
   ]
  },
  {
   "cell_type": "code",
   "execution_count": 18,
   "metadata": {
    "ExecuteTime": {
     "end_time": "2021-12-01T03:31:21.569225Z",
     "start_time": "2021-12-01T03:31:05.993887Z"
    }
   },
   "outputs": [
    {
     "data": {
      "text/html": [
       "<div>\n",
       "<style scoped>\n",
       "    .dataframe tbody tr th:only-of-type {\n",
       "        vertical-align: middle;\n",
       "    }\n",
       "\n",
       "    .dataframe tbody tr th {\n",
       "        vertical-align: top;\n",
       "    }\n",
       "\n",
       "    .dataframe thead th {\n",
       "        text-align: right;\n",
       "    }\n",
       "</style>\n",
       "<table border=\"1\" class=\"dataframe\">\n",
       "  <thead>\n",
       "    <tr style=\"text-align: right;\">\n",
       "      <th></th>\n",
       "      <th>q</th>\n",
       "      <th>N</th>\n",
       "      <th>Mean</th>\n",
       "      <th>Sharpe_Annual</th>\n",
       "      <th>tstat</th>\n",
       "      <th>significance</th>\n",
       "    </tr>\n",
       "  </thead>\n",
       "  <tbody>\n",
       "    <tr>\n",
       "      <th>0</th>\n",
       "      <td>5</td>\n",
       "      <td>1</td>\n",
       "      <td>0.008643</td>\n",
       "      <td>0.499201</td>\n",
       "      <td>2.637589</td>\n",
       "      <td>True</td>\n",
       "    </tr>\n",
       "    <tr>\n",
       "      <th>1</th>\n",
       "      <td>5</td>\n",
       "      <td>2</td>\n",
       "      <td>0.005562</td>\n",
       "      <td>0.296939</td>\n",
       "      <td>1.566568</td>\n",
       "      <td>False</td>\n",
       "    </tr>\n",
       "    <tr>\n",
       "      <th>2</th>\n",
       "      <td>6</td>\n",
       "      <td>1</td>\n",
       "      <td>0.010087</td>\n",
       "      <td>0.541796</td>\n",
       "      <td>2.862645</td>\n",
       "      <td>True</td>\n",
       "    </tr>\n",
       "    <tr>\n",
       "      <th>3</th>\n",
       "      <td>6</td>\n",
       "      <td>2</td>\n",
       "      <td>0.006886</td>\n",
       "      <td>0.341215</td>\n",
       "      <td>1.800157</td>\n",
       "      <td>False</td>\n",
       "    </tr>\n",
       "    <tr>\n",
       "      <th>4</th>\n",
       "      <td>7</td>\n",
       "      <td>1</td>\n",
       "      <td>0.011707</td>\n",
       "      <td>0.589320</td>\n",
       "      <td>3.113744</td>\n",
       "      <td>True</td>\n",
       "    </tr>\n",
       "    <tr>\n",
       "      <th>5</th>\n",
       "      <td>7</td>\n",
       "      <td>2</td>\n",
       "      <td>0.008210</td>\n",
       "      <td>0.384911</td>\n",
       "      <td>2.030687</td>\n",
       "      <td>True</td>\n",
       "    </tr>\n",
       "    <tr>\n",
       "      <th>6</th>\n",
       "      <td>8</td>\n",
       "      <td>1</td>\n",
       "      <td>0.012910</td>\n",
       "      <td>0.621360</td>\n",
       "      <td>3.283030</td>\n",
       "      <td>True</td>\n",
       "    </tr>\n",
       "    <tr>\n",
       "      <th>7</th>\n",
       "      <td>8</td>\n",
       "      <td>2</td>\n",
       "      <td>0.009419</td>\n",
       "      <td>0.421283</td>\n",
       "      <td>2.222576</td>\n",
       "      <td>True</td>\n",
       "    </tr>\n",
       "    <tr>\n",
       "      <th>8</th>\n",
       "      <td>9</td>\n",
       "      <td>1</td>\n",
       "      <td>0.014300</td>\n",
       "      <td>0.659345</td>\n",
       "      <td>3.483729</td>\n",
       "      <td>True</td>\n",
       "    </tr>\n",
       "    <tr>\n",
       "      <th>9</th>\n",
       "      <td>9</td>\n",
       "      <td>2</td>\n",
       "      <td>0.010485</td>\n",
       "      <td>0.451481</td>\n",
       "      <td>2.381890</td>\n",
       "      <td>True</td>\n",
       "    </tr>\n",
       "    <tr>\n",
       "      <th>10</th>\n",
       "      <td>10</td>\n",
       "      <td>1</td>\n",
       "      <td>0.015685</td>\n",
       "      <td>0.696764</td>\n",
       "      <td>3.681437</td>\n",
       "      <td>True</td>\n",
       "    </tr>\n",
       "    <tr>\n",
       "      <th>11</th>\n",
       "      <td>10</td>\n",
       "      <td>2</td>\n",
       "      <td>0.011464</td>\n",
       "      <td>0.477525</td>\n",
       "      <td>2.519296</td>\n",
       "      <td>True</td>\n",
       "    </tr>\n",
       "  </tbody>\n",
       "</table>\n",
       "</div>"
      ],
      "text/plain": [
       "     q  N      Mean  Sharpe_Annual     tstat  significance\n",
       "0    5  1  0.008643       0.499201  2.637589          True\n",
       "1    5  2  0.005562       0.296939  1.566568         False\n",
       "2    6  1  0.010087       0.541796  2.862645          True\n",
       "3    6  2  0.006886       0.341215  1.800157         False\n",
       "4    7  1  0.011707       0.589320  3.113744          True\n",
       "5    7  2  0.008210       0.384911  2.030687          True\n",
       "6    8  1  0.012910       0.621360  3.283030          True\n",
       "7    8  2  0.009419       0.421283  2.222576          True\n",
       "8    9  1  0.014300       0.659345  3.483729          True\n",
       "9    9  2  0.010485       0.451481  2.381890          True\n",
       "10  10  1  0.015685       0.696764  3.681437          True\n",
       "11  10  2  0.011464       0.477525  2.519296          True"
      ]
     },
     "execution_count": 18,
     "metadata": {},
     "output_type": "execute_result"
    }
   ],
   "source": [
    "param_tuning(df, q_range=range(5,11), N_range=range(1,3))"
   ]
  },
  {
   "cell_type": "markdown",
   "metadata": {},
   "source": [
    "**Insights:** large *q* with small *N* leads to better performance.\n",
    "\n",
    "Therefore, we produce quantiles using large *q*s and small *N*s, and further rigorously tune hyperparameters during the combination phase. "
   ]
  },
  {
   "cell_type": "markdown",
   "metadata": {
    "ExecuteTime": {
     "end_time": "2021-10-18T11:12:39.247470Z",
     "start_time": "2021-10-18T11:12:39.242942Z"
    }
   },
   "source": [
    "#### Strategy Outputs"
   ]
  },
  {
   "cell_type": "markdown",
   "metadata": {},
   "source": [
    "In this part, we produce quantile labels using reversal strategy, which serve as the criterion for further portfolio selection in the combination phase."
   ]
  },
  {
   "cell_type": "code",
   "execution_count": 19,
   "metadata": {
    "ExecuteTime": {
     "end_time": "2021-11-27T07:12:19.648831Z",
     "start_time": "2021-11-27T07:12:19.644749Z"
    }
   },
   "outputs": [],
   "source": [
    "def quantile_labels(data, q=5, N=5, crit_etf=slice(None)):\n",
    "    def quantile(inser, q):\n",
    "        return pd.qcut(inser, q, labels=range(1,q+1), duplicates='drop')\n",
    "    \n",
    "    crit_ret = f'ret_ma{N}_lag'\n",
    "    tmp = data.loc[crit_etf].copy()\n",
    "    tmp = tmp[['PRC', 'VOL', 'RET', 'SHROUT', crit_ret]]\n",
    "    # drop missing values\n",
    "    tmp.dropna(subset=[f'ret_ma{N}_lag'], inplace=True)\n",
    "    assert tmp.isna().sum().sum()==0, 'Missing Values exist!'\n",
    "        \n",
    "    tmp[f'quantile_q{q}_ma{N}'] = tmp[crit_ret].groupby('DATE').apply(quantile, q)\n",
    "    \n",
    "    return tmp[[f'quantile_q{q}_ma{N}']]"
   ]
  },
  {
   "cell_type": "markdown",
   "metadata": {},
   "source": [
    "Output Quantiles"
   ]
  },
  {
   "cell_type": "markdown",
   "metadata": {},
   "source": [
    "aim for a flexible combined strategy, produce quantile labels based on different hyperparameter settings"
   ]
  },
  {
   "cell_type": "code",
   "execution_count": 20,
   "metadata": {
    "ExecuteTime": {
     "end_time": "2021-11-27T07:12:42.714592Z",
     "start_time": "2021-11-27T07:12:19.650295Z"
    }
   },
   "outputs": [
    {
     "name": "stdout",
     "output_type": "stream",
     "text": [
      "work done: q5, N1\n",
      "work done: q5, N2\n",
      "work done: q6, N1\n",
      "work done: q6, N2\n",
      "work done: q7, N1\n",
      "work done: q7, N2\n",
      "work done: q8, N1\n",
      "work done: q8, N2\n",
      "work done: q9, N1\n",
      "work done: q9, N2\n",
      "work done: q10, N1\n",
      "work done: q10, N2\n"
     ]
    },
    {
     "data": {
      "text/html": [
       "<div>\n",
       "<style scoped>\n",
       "    .dataframe tbody tr th:only-of-type {\n",
       "        vertical-align: middle;\n",
       "    }\n",
       "\n",
       "    .dataframe tbody tr th {\n",
       "        vertical-align: top;\n",
       "    }\n",
       "\n",
       "    .dataframe thead th {\n",
       "        text-align: right;\n",
       "    }\n",
       "</style>\n",
       "<table border=\"1\" class=\"dataframe\">\n",
       "  <thead>\n",
       "    <tr style=\"text-align: right;\">\n",
       "      <th></th>\n",
       "      <th>DATE</th>\n",
       "      <th>PERMNO</th>\n",
       "      <th>quantile_q5_ma1</th>\n",
       "      <th>quantile_q5_ma2</th>\n",
       "      <th>quantile_q6_ma1</th>\n",
       "      <th>quantile_q6_ma2</th>\n",
       "      <th>quantile_q7_ma1</th>\n",
       "      <th>quantile_q7_ma2</th>\n",
       "      <th>quantile_q8_ma1</th>\n",
       "      <th>quantile_q8_ma2</th>\n",
       "      <th>quantile_q9_ma1</th>\n",
       "      <th>quantile_q9_ma2</th>\n",
       "      <th>quantile_q10_ma1</th>\n",
       "      <th>quantile_q10_ma2</th>\n",
       "    </tr>\n",
       "  </thead>\n",
       "  <tbody>\n",
       "    <tr>\n",
       "      <th>0</th>\n",
       "      <td>1993-01-29</td>\n",
       "      <td>10001.0</td>\n",
       "      <td>NaN</td>\n",
       "      <td>NaN</td>\n",
       "      <td>NaN</td>\n",
       "      <td>NaN</td>\n",
       "      <td>NaN</td>\n",
       "      <td>NaN</td>\n",
       "      <td>NaN</td>\n",
       "      <td>NaN</td>\n",
       "      <td>NaN</td>\n",
       "      <td>NaN</td>\n",
       "      <td>NaN</td>\n",
       "      <td>NaN</td>\n",
       "    </tr>\n",
       "    <tr>\n",
       "      <th>1</th>\n",
       "      <td>1993-01-29</td>\n",
       "      <td>10002.0</td>\n",
       "      <td>NaN</td>\n",
       "      <td>NaN</td>\n",
       "      <td>NaN</td>\n",
       "      <td>NaN</td>\n",
       "      <td>NaN</td>\n",
       "      <td>NaN</td>\n",
       "      <td>NaN</td>\n",
       "      <td>NaN</td>\n",
       "      <td>NaN</td>\n",
       "      <td>NaN</td>\n",
       "      <td>NaN</td>\n",
       "      <td>NaN</td>\n",
       "    </tr>\n",
       "    <tr>\n",
       "      <th>2</th>\n",
       "      <td>1993-01-29</td>\n",
       "      <td>10003.0</td>\n",
       "      <td>NaN</td>\n",
       "      <td>NaN</td>\n",
       "      <td>NaN</td>\n",
       "      <td>NaN</td>\n",
       "      <td>NaN</td>\n",
       "      <td>NaN</td>\n",
       "      <td>NaN</td>\n",
       "      <td>NaN</td>\n",
       "      <td>NaN</td>\n",
       "      <td>NaN</td>\n",
       "      <td>NaN</td>\n",
       "      <td>NaN</td>\n",
       "    </tr>\n",
       "    <tr>\n",
       "      <th>3</th>\n",
       "      <td>1993-01-29</td>\n",
       "      <td>10009.0</td>\n",
       "      <td>NaN</td>\n",
       "      <td>NaN</td>\n",
       "      <td>NaN</td>\n",
       "      <td>NaN</td>\n",
       "      <td>NaN</td>\n",
       "      <td>NaN</td>\n",
       "      <td>NaN</td>\n",
       "      <td>NaN</td>\n",
       "      <td>NaN</td>\n",
       "      <td>NaN</td>\n",
       "      <td>NaN</td>\n",
       "      <td>NaN</td>\n",
       "    </tr>\n",
       "    <tr>\n",
       "      <th>4</th>\n",
       "      <td>1993-01-29</td>\n",
       "      <td>10010.0</td>\n",
       "      <td>NaN</td>\n",
       "      <td>NaN</td>\n",
       "      <td>NaN</td>\n",
       "      <td>NaN</td>\n",
       "      <td>NaN</td>\n",
       "      <td>NaN</td>\n",
       "      <td>NaN</td>\n",
       "      <td>NaN</td>\n",
       "      <td>NaN</td>\n",
       "      <td>NaN</td>\n",
       "      <td>NaN</td>\n",
       "      <td>NaN</td>\n",
       "    </tr>\n",
       "    <tr>\n",
       "      <th>...</th>\n",
       "      <td>...</td>\n",
       "      <td>...</td>\n",
       "      <td>...</td>\n",
       "      <td>...</td>\n",
       "      <td>...</td>\n",
       "      <td>...</td>\n",
       "      <td>...</td>\n",
       "      <td>...</td>\n",
       "      <td>...</td>\n",
       "      <td>...</td>\n",
       "      <td>...</td>\n",
       "      <td>...</td>\n",
       "      <td>...</td>\n",
       "      <td>...</td>\n",
       "    </tr>\n",
       "    <tr>\n",
       "      <th>2471973</th>\n",
       "      <td>2020-12-31</td>\n",
       "      <td>93426.0</td>\n",
       "      <td>4</td>\n",
       "      <td>4</td>\n",
       "      <td>5</td>\n",
       "      <td>4</td>\n",
       "      <td>6</td>\n",
       "      <td>5</td>\n",
       "      <td>7</td>\n",
       "      <td>5</td>\n",
       "      <td>7</td>\n",
       "      <td>6</td>\n",
       "      <td>8</td>\n",
       "      <td>7</td>\n",
       "    </tr>\n",
       "    <tr>\n",
       "      <th>2471974</th>\n",
       "      <td>2020-12-31</td>\n",
       "      <td>93427.0</td>\n",
       "      <td>3</td>\n",
       "      <td>3</td>\n",
       "      <td>4</td>\n",
       "      <td>3</td>\n",
       "      <td>4</td>\n",
       "      <td>3</td>\n",
       "      <td>5</td>\n",
       "      <td>4</td>\n",
       "      <td>5</td>\n",
       "      <td>4</td>\n",
       "      <td>6</td>\n",
       "      <td>5</td>\n",
       "    </tr>\n",
       "    <tr>\n",
       "      <th>2471975</th>\n",
       "      <td>2020-12-31</td>\n",
       "      <td>93429.0</td>\n",
       "      <td>3</td>\n",
       "      <td>2</td>\n",
       "      <td>4</td>\n",
       "      <td>2</td>\n",
       "      <td>4</td>\n",
       "      <td>3</td>\n",
       "      <td>5</td>\n",
       "      <td>3</td>\n",
       "      <td>5</td>\n",
       "      <td>3</td>\n",
       "      <td>6</td>\n",
       "      <td>3</td>\n",
       "    </tr>\n",
       "    <tr>\n",
       "      <th>2471976</th>\n",
       "      <td>2020-12-31</td>\n",
       "      <td>93434.0</td>\n",
       "      <td>3</td>\n",
       "      <td>2</td>\n",
       "      <td>4</td>\n",
       "      <td>2</td>\n",
       "      <td>4</td>\n",
       "      <td>3</td>\n",
       "      <td>5</td>\n",
       "      <td>3</td>\n",
       "      <td>6</td>\n",
       "      <td>3</td>\n",
       "      <td>6</td>\n",
       "      <td>4</td>\n",
       "    </tr>\n",
       "    <tr>\n",
       "      <th>2471977</th>\n",
       "      <td>2020-12-31</td>\n",
       "      <td>93436.0</td>\n",
       "      <td>5</td>\n",
       "      <td>5</td>\n",
       "      <td>6</td>\n",
       "      <td>6</td>\n",
       "      <td>7</td>\n",
       "      <td>7</td>\n",
       "      <td>8</td>\n",
       "      <td>7</td>\n",
       "      <td>9</td>\n",
       "      <td>8</td>\n",
       "      <td>10</td>\n",
       "      <td>9</td>\n",
       "    </tr>\n",
       "  </tbody>\n",
       "</table>\n",
       "<p>2471978 rows × 14 columns</p>\n",
       "</div>"
      ],
      "text/plain": [
       "              DATE   PERMNO quantile_q5_ma1 quantile_q5_ma2 quantile_q6_ma1  \\\n",
       "0       1993-01-29  10001.0             NaN             NaN             NaN   \n",
       "1       1993-01-29  10002.0             NaN             NaN             NaN   \n",
       "2       1993-01-29  10003.0             NaN             NaN             NaN   \n",
       "3       1993-01-29  10009.0             NaN             NaN             NaN   \n",
       "4       1993-01-29  10010.0             NaN             NaN             NaN   \n",
       "...            ...      ...             ...             ...             ...   \n",
       "2471973 2020-12-31  93426.0               4               4               5   \n",
       "2471974 2020-12-31  93427.0               3               3               4   \n",
       "2471975 2020-12-31  93429.0               3               2               4   \n",
       "2471976 2020-12-31  93434.0               3               2               4   \n",
       "2471977 2020-12-31  93436.0               5               5               6   \n",
       "\n",
       "        quantile_q6_ma2 quantile_q7_ma1 quantile_q7_ma2 quantile_q8_ma1  \\\n",
       "0                   NaN             NaN             NaN             NaN   \n",
       "1                   NaN             NaN             NaN             NaN   \n",
       "2                   NaN             NaN             NaN             NaN   \n",
       "3                   NaN             NaN             NaN             NaN   \n",
       "4                   NaN             NaN             NaN             NaN   \n",
       "...                 ...             ...             ...             ...   \n",
       "2471973               4               6               5               7   \n",
       "2471974               3               4               3               5   \n",
       "2471975               2               4               3               5   \n",
       "2471976               2               4               3               5   \n",
       "2471977               6               7               7               8   \n",
       "\n",
       "        quantile_q8_ma2 quantile_q9_ma1 quantile_q9_ma2 quantile_q10_ma1  \\\n",
       "0                   NaN             NaN             NaN              NaN   \n",
       "1                   NaN             NaN             NaN              NaN   \n",
       "2                   NaN             NaN             NaN              NaN   \n",
       "3                   NaN             NaN             NaN              NaN   \n",
       "4                   NaN             NaN             NaN              NaN   \n",
       "...                 ...             ...             ...              ...   \n",
       "2471973               5               7               6                8   \n",
       "2471974               4               5               4                6   \n",
       "2471975               3               5               3                6   \n",
       "2471976               3               6               3                6   \n",
       "2471977               7               9               8               10   \n",
       "\n",
       "        quantile_q10_ma2  \n",
       "0                    NaN  \n",
       "1                    NaN  \n",
       "2                    NaN  \n",
       "3                    NaN  \n",
       "4                    NaN  \n",
       "...                  ...  \n",
       "2471973                7  \n",
       "2471974                5  \n",
       "2471975                3  \n",
       "2471976                4  \n",
       "2471977                9  \n",
       "\n",
       "[2471978 rows x 14 columns]"
      ]
     },
     "execution_count": 20,
     "metadata": {},
     "output_type": "execute_result"
    }
   ],
   "source": [
    "##### merge is slow!!!\n",
    "results = pd.DataFrame(index=df.index)\n",
    "results.reset_index(inplace=True)\n",
    "assert len(results)==len_df, 'Missing Some Rows!'\n",
    "\n",
    "q_range, N_range = range(5,11), range(1,3)\n",
    "for q in q_range:\n",
    "    for N in N_range:\n",
    "        tmp_result = quantile_labels(df, q, N, crit_etf=slice(None))\n",
    "        tmp_result.reset_index(inplace=True)\n",
    "        results = results.merge(tmp_result, how='outer', on=['DATE', 'PERMNO'])\n",
    "        print(f'work done: q{q}, N{N}')\n",
    "results"
   ]
  },
  {
   "cell_type": "code",
   "execution_count": 21,
   "metadata": {
    "ExecuteTime": {
     "end_time": "2021-11-27T07:12:42.718544Z",
     "start_time": "2021-11-27T07:12:42.715813Z"
    }
   },
   "outputs": [
    {
     "data": {
      "text/plain": [
       "True"
      ]
     },
     "execution_count": 21,
     "metadata": {},
     "output_type": "execute_result"
    }
   ],
   "source": [
    "len(results)==len_df"
   ]
  },
  {
   "cell_type": "markdown",
   "metadata": {},
   "source": [
    "df_reversal stores the result of reversal strategy."
   ]
  },
  {
   "cell_type": "code",
   "execution_count": 23,
   "metadata": {
    "ExecuteTime": {
     "end_time": "2021-11-27T07:12:42.728056Z",
     "start_time": "2021-11-27T07:12:42.722678Z"
    }
   },
   "outputs": [],
   "source": [
    "df_reversal = results.copy()"
   ]
  },
  {
   "cell_type": "code",
   "execution_count": null,
   "metadata": {},
   "outputs": [],
   "source": []
  },
  {
   "cell_type": "markdown",
   "metadata": {},
   "source": [
    "### Payout Yield"
   ]
  },
  {
   "cell_type": "markdown",
   "metadata": {},
   "source": [
    "The “conservative formula” of VVB combines three ingredients：Low risk, High past returns and High payout ratio.\n",
    "Since we already include volatility and momentum in this notebook, here, we mainly focus on the third ingredient to avoid redundency."
   ]
  },
  {
   "cell_type": "markdown",
   "metadata": {},
   "source": [
    "**Data Cleaning**"
   ]
  },
  {
   "cell_type": "code",
   "execution_count": 24,
   "metadata": {
    "ExecuteTime": {
     "end_time": "2021-11-27T07:12:43.001383Z",
     "start_time": "2021-11-27T07:12:42.729208Z"
    },
    "scrolled": true
   },
   "outputs": [
    {
     "data": {
      "text/html": [
       "<div>\n",
       "<style scoped>\n",
       "    .dataframe tbody tr th:only-of-type {\n",
       "        vertical-align: middle;\n",
       "    }\n",
       "\n",
       "    .dataframe tbody tr th {\n",
       "        vertical-align: top;\n",
       "    }\n",
       "\n",
       "    .dataframe thead th {\n",
       "        text-align: right;\n",
       "    }\n",
       "</style>\n",
       "<table border=\"1\" class=\"dataframe\">\n",
       "  <thead>\n",
       "    <tr style=\"text-align: right;\">\n",
       "      <th></th>\n",
       "      <th></th>\n",
       "      <th>PRC</th>\n",
       "      <th>SHROUT</th>\n",
       "      <th>SHRCD</th>\n",
       "      <th>EXCHCD</th>\n",
       "      <th>SICCD</th>\n",
       "      <th>VOL</th>\n",
       "      <th>RET</th>\n",
       "      <th>DIVAMT</th>\n",
       "      <th>MV</th>\n",
       "    </tr>\n",
       "    <tr>\n",
       "      <th>PERMNO</th>\n",
       "      <th>DATE</th>\n",
       "      <th></th>\n",
       "      <th></th>\n",
       "      <th></th>\n",
       "      <th></th>\n",
       "      <th></th>\n",
       "      <th></th>\n",
       "      <th></th>\n",
       "      <th></th>\n",
       "      <th></th>\n",
       "    </tr>\n",
       "  </thead>\n",
       "  <tbody>\n",
       "    <tr>\n",
       "      <th rowspan=\"5\" valign=\"top\">10001.0</th>\n",
       "      <th>1993-01-29</th>\n",
       "      <td>-14.000</td>\n",
       "      <td>1080.0</td>\n",
       "      <td>11.0</td>\n",
       "      <td>3.0</td>\n",
       "      <td>4920.0</td>\n",
       "      <td>44.0</td>\n",
       "      <td>0.000000</td>\n",
       "      <td>NaN</td>\n",
       "      <td>-15120.000</td>\n",
       "    </tr>\n",
       "    <tr>\n",
       "      <th>1993-02-26</th>\n",
       "      <td>14.250</td>\n",
       "      <td>1080.0</td>\n",
       "      <td>11.0</td>\n",
       "      <td>3.0</td>\n",
       "      <td>4920.0</td>\n",
       "      <td>23.0</td>\n",
       "      <td>0.017857</td>\n",
       "      <td>NaN</td>\n",
       "      <td>15390.000</td>\n",
       "    </tr>\n",
       "    <tr>\n",
       "      <th>1993-03-31</th>\n",
       "      <td>14.250</td>\n",
       "      <td>1075.0</td>\n",
       "      <td>11.0</td>\n",
       "      <td>3.0</td>\n",
       "      <td>4920.0</td>\n",
       "      <td>137.0</td>\n",
       "      <td>0.011053</td>\n",
       "      <td>0.1575</td>\n",
       "      <td>15318.750</td>\n",
       "    </tr>\n",
       "    <tr>\n",
       "      <th>1993-04-30</th>\n",
       "      <td>-15.250</td>\n",
       "      <td>1075.0</td>\n",
       "      <td>11.0</td>\n",
       "      <td>3.0</td>\n",
       "      <td>4920.0</td>\n",
       "      <td>473.0</td>\n",
       "      <td>0.070175</td>\n",
       "      <td>NaN</td>\n",
       "      <td>-16393.750</td>\n",
       "    </tr>\n",
       "    <tr>\n",
       "      <th>1993-05-28</th>\n",
       "      <td>-15.125</td>\n",
       "      <td>1075.0</td>\n",
       "      <td>11.0</td>\n",
       "      <td>3.0</td>\n",
       "      <td>4920.0</td>\n",
       "      <td>126.0</td>\n",
       "      <td>-0.008197</td>\n",
       "      <td>NaN</td>\n",
       "      <td>-16259.375</td>\n",
       "    </tr>\n",
       "  </tbody>\n",
       "</table>\n",
       "</div>"
      ],
      "text/plain": [
       "                       PRC  SHROUT  SHRCD  EXCHCD   SICCD    VOL       RET  \\\n",
       "PERMNO  DATE                                                                 \n",
       "10001.0 1993-01-29 -14.000  1080.0   11.0     3.0  4920.0   44.0  0.000000   \n",
       "        1993-02-26  14.250  1080.0   11.0     3.0  4920.0   23.0  0.017857   \n",
       "        1993-03-31  14.250  1075.0   11.0     3.0  4920.0  137.0  0.011053   \n",
       "        1993-04-30 -15.250  1075.0   11.0     3.0  4920.0  473.0  0.070175   \n",
       "        1993-05-28 -15.125  1075.0   11.0     3.0  4920.0  126.0 -0.008197   \n",
       "\n",
       "                    DIVAMT         MV  \n",
       "PERMNO  DATE                           \n",
       "10001.0 1993-01-29     NaN -15120.000  \n",
       "        1993-02-26     NaN  15390.000  \n",
       "        1993-03-31  0.1575  15318.750  \n",
       "        1993-04-30     NaN -16393.750  \n",
       "        1993-05-28     NaN -16259.375  "
      ]
     },
     "execution_count": 24,
     "metadata": {},
     "output_type": "execute_result"
    }
   ],
   "source": [
    "data = data.set_index(['PERMNO','DATE'])\n",
    "df = data.copy()\n",
    "df.head()"
   ]
  },
  {
   "cell_type": "code",
   "execution_count": 25,
   "metadata": {
    "ExecuteTime": {
     "end_time": "2021-11-27T07:12:43.712861Z",
     "start_time": "2021-11-27T07:12:43.002787Z"
    }
   },
   "outputs": [
    {
     "data": {
      "text/html": [
       "<div>\n",
       "<style scoped>\n",
       "    .dataframe tbody tr th:only-of-type {\n",
       "        vertical-align: middle;\n",
       "    }\n",
       "\n",
       "    .dataframe tbody tr th {\n",
       "        vertical-align: top;\n",
       "    }\n",
       "\n",
       "    .dataframe thead th {\n",
       "        text-align: right;\n",
       "    }\n",
       "</style>\n",
       "<table border=\"1\" class=\"dataframe\">\n",
       "  <thead>\n",
       "    <tr style=\"text-align: right;\">\n",
       "      <th></th>\n",
       "      <th></th>\n",
       "      <th>PRC</th>\n",
       "      <th>SHROUT</th>\n",
       "      <th>EXCHCD</th>\n",
       "      <th>SICCD</th>\n",
       "      <th>VOL</th>\n",
       "      <th>RET</th>\n",
       "      <th>DIVAMT</th>\n",
       "      <th>MV</th>\n",
       "    </tr>\n",
       "    <tr>\n",
       "      <th>PERMNO</th>\n",
       "      <th>DATE</th>\n",
       "      <th></th>\n",
       "      <th></th>\n",
       "      <th></th>\n",
       "      <th></th>\n",
       "      <th></th>\n",
       "      <th></th>\n",
       "      <th></th>\n",
       "      <th></th>\n",
       "    </tr>\n",
       "  </thead>\n",
       "  <tbody>\n",
       "    <tr>\n",
       "      <th rowspan=\"5\" valign=\"top\">10001.0</th>\n",
       "      <th>1993-01-29</th>\n",
       "      <td>14.000</td>\n",
       "      <td>1080.0</td>\n",
       "      <td>3.0</td>\n",
       "      <td>4920.0</td>\n",
       "      <td>44.0</td>\n",
       "      <td>0.000000</td>\n",
       "      <td>NaN</td>\n",
       "      <td>-15120.000</td>\n",
       "    </tr>\n",
       "    <tr>\n",
       "      <th>1993-02-26</th>\n",
       "      <td>14.250</td>\n",
       "      <td>1080.0</td>\n",
       "      <td>3.0</td>\n",
       "      <td>4920.0</td>\n",
       "      <td>23.0</td>\n",
       "      <td>0.017857</td>\n",
       "      <td>NaN</td>\n",
       "      <td>15390.000</td>\n",
       "    </tr>\n",
       "    <tr>\n",
       "      <th>1993-03-31</th>\n",
       "      <td>14.250</td>\n",
       "      <td>1075.0</td>\n",
       "      <td>3.0</td>\n",
       "      <td>4920.0</td>\n",
       "      <td>137.0</td>\n",
       "      <td>0.011053</td>\n",
       "      <td>0.1575</td>\n",
       "      <td>15318.750</td>\n",
       "    </tr>\n",
       "    <tr>\n",
       "      <th>1993-04-30</th>\n",
       "      <td>15.250</td>\n",
       "      <td>1075.0</td>\n",
       "      <td>3.0</td>\n",
       "      <td>4920.0</td>\n",
       "      <td>473.0</td>\n",
       "      <td>0.070175</td>\n",
       "      <td>NaN</td>\n",
       "      <td>-16393.750</td>\n",
       "    </tr>\n",
       "    <tr>\n",
       "      <th>1993-05-28</th>\n",
       "      <td>15.125</td>\n",
       "      <td>1075.0</td>\n",
       "      <td>3.0</td>\n",
       "      <td>4920.0</td>\n",
       "      <td>126.0</td>\n",
       "      <td>-0.008197</td>\n",
       "      <td>NaN</td>\n",
       "      <td>-16259.375</td>\n",
       "    </tr>\n",
       "  </tbody>\n",
       "</table>\n",
       "</div>"
      ],
      "text/plain": [
       "                       PRC  SHROUT  EXCHCD   SICCD    VOL       RET  DIVAMT  \\\n",
       "PERMNO  DATE                                                                  \n",
       "10001.0 1993-01-29  14.000  1080.0     3.0  4920.0   44.0  0.000000     NaN   \n",
       "        1993-02-26  14.250  1080.0     3.0  4920.0   23.0  0.017857     NaN   \n",
       "        1993-03-31  14.250  1075.0     3.0  4920.0  137.0  0.011053  0.1575   \n",
       "        1993-04-30  15.250  1075.0     3.0  4920.0  473.0  0.070175     NaN   \n",
       "        1993-05-28  15.125  1075.0     3.0  4920.0  126.0 -0.008197     NaN   \n",
       "\n",
       "                           MV  \n",
       "PERMNO  DATE                   \n",
       "10001.0 1993-01-29 -15120.000  \n",
       "        1993-02-26  15390.000  \n",
       "        1993-03-31  15318.750  \n",
       "        1993-04-30 -16393.750  \n",
       "        1993-05-28 -16259.375  "
      ]
     },
     "execution_count": 25,
     "metadata": {},
     "output_type": "execute_result"
    }
   ],
   "source": [
    "# Only keep common stocks \n",
    "df = df.loc[(df['SHRCD']==10) | (df['SHRCD']==11)]\n",
    "df.drop('SHRCD', axis=1, inplace=True)\n",
    "# Fix negative stock price\n",
    "df['PRC'] = np.abs(df['PRC'])\n",
    "\n",
    "df.sort_index(inplace=True)\n",
    "df.dropna(subset=['EXCHCD','PRC','VOL','SHROUT'], inplace=True)\n",
    "df = df.groupby(['PERMNO','DATE']).head(1)\n",
    "df.head()"
   ]
  },
  {
   "cell_type": "code",
   "execution_count": 26,
   "metadata": {
    "ExecuteTime": {
     "end_time": "2021-11-27T07:12:43.721183Z",
     "start_time": "2021-11-27T07:12:43.714363Z"
    }
   },
   "outputs": [],
   "source": [
    "df_payout = df.copy()"
   ]
  },
  {
   "cell_type": "markdown",
   "metadata": {},
   "source": [
    "Define lags of variables"
   ]
  },
  {
   "cell_type": "code",
   "execution_count": 27,
   "metadata": {
    "ExecuteTime": {
     "end_time": "2021-11-27T07:12:43.794493Z",
     "start_time": "2021-11-27T07:12:43.727529Z"
    }
   },
   "outputs": [],
   "source": [
    "df['lag_PRC']    = df['PRC'].groupby('PERMNO').shift(1)\n",
    "df['lag_SHROUT'] = df['SHROUT'].groupby('PERMNO').shift(1)\n",
    "df['lag_MV']     = df['MV'].groupby('PERMNO').shift(1)"
   ]
  },
  {
   "cell_type": "markdown",
   "metadata": {},
   "source": [
    "**Compute the lagged payout yield in different senarios**"
   ]
  },
  {
   "cell_type": "markdown",
   "metadata": {},
   "source": [
    "- Dividends (dividend per share x number of shares)\n",
    "- Net repurchases (-1 x change in shares outstanding x price per share)"
   ]
  },
  {
   "cell_type": "code",
   "execution_count": 28,
   "metadata": {
    "ExecuteTime": {
     "end_time": "2021-11-27T07:12:43.815546Z",
     "start_time": "2021-11-27T07:12:43.798240Z"
    }
   },
   "outputs": [],
   "source": [
    "df['DIVAMT'] = df['DIVAMT'].fillna(0)\n",
    "df['PAYOUT'] = df['SHROUT']*df['DIVAMT'] + np.maximum(df['lag_SHROUT']-df['SHROUT'], 0)*df['PRC']"
   ]
  },
  {
   "cell_type": "code",
   "execution_count": 29,
   "metadata": {
    "ExecuteTime": {
     "end_time": "2021-11-27T07:12:43.818828Z",
     "start_time": "2021-11-27T07:12:43.816634Z"
    }
   },
   "outputs": [],
   "source": [
    "def quintiles(inser, i=5):\n",
    "    outser = pd.qcut(inser, q=i, labels=range(1,i+1))\n",
    "    return outser"
   ]
  },
  {
   "cell_type": "code",
   "execution_count": 30,
   "metadata": {
    "ExecuteTime": {
     "end_time": "2021-11-27T07:16:39.915121Z",
     "start_time": "2021-11-27T07:12:43.820144Z"
    }
   },
   "outputs": [
    {
     "name": "stdout",
     "output_type": "stream",
     "text": [
      "Lag 3 months done.\n",
      "Lag 6 months done.\n",
      "Lag 9 months done.\n",
      "Lag 12 months done.\n"
     ]
    }
   ],
   "source": [
    "# Produce quantiles of different combinition of lags and quantile\n",
    "# This cell takes about 5 minutes to run\n",
    "for i in [3,6,9,12]:\n",
    "    for j in [3,5,10]:\n",
    "        df[f'lag_PAYOUT_{i}m'] = df['PAYOUT'].groupby('PERMNO').rolling(i).sum().shift(1).reset_index(level=0, drop=True)\n",
    "        df[f'lag_PAYOUTYIELD_{i}m'] = df[f'lag_PAYOUT_{i}m']/df['lag_MV']\n",
    "        # Since payout yield are likely to be 0, we add some randomness intentionally to avoid duplicate bin edges.\n",
    "        df[f'lag_PAYOUTYIELD_{i}m'] = df[f'lag_PAYOUTYIELD_{i}m'] + df['lag_PRC']/10000000000\n",
    "        # Compute quintile rank\n",
    "        df[f'PAYOUT_QUINTILE_{i}m_{j}'] =  df.dropna(subset=[f'lag_PAYOUTYIELD_{i}m','RET'])[f'lag_PAYOUTYIELD_{i}m'].groupby('DATE').apply(quintiles, j)\n",
    "    print(f'Lag {i} months done.')"
   ]
  },
  {
   "cell_type": "code",
   "execution_count": 31,
   "metadata": {
    "ExecuteTime": {
     "end_time": "2021-11-27T07:16:39.931574Z",
     "start_time": "2021-11-27T07:16:39.916497Z"
    }
   },
   "outputs": [
    {
     "data": {
      "text/html": [
       "<div>\n",
       "<style scoped>\n",
       "    .dataframe tbody tr th:only-of-type {\n",
       "        vertical-align: middle;\n",
       "    }\n",
       "\n",
       "    .dataframe tbody tr th {\n",
       "        vertical-align: top;\n",
       "    }\n",
       "\n",
       "    .dataframe thead th {\n",
       "        text-align: right;\n",
       "    }\n",
       "</style>\n",
       "<table border=\"1\" class=\"dataframe\">\n",
       "  <thead>\n",
       "    <tr style=\"text-align: right;\">\n",
       "      <th></th>\n",
       "      <th></th>\n",
       "      <th>PRC</th>\n",
       "      <th>SHROUT</th>\n",
       "      <th>EXCHCD</th>\n",
       "      <th>SICCD</th>\n",
       "      <th>VOL</th>\n",
       "      <th>RET</th>\n",
       "      <th>DIVAMT</th>\n",
       "      <th>MV</th>\n",
       "      <th>lag_PRC</th>\n",
       "      <th>lag_SHROUT</th>\n",
       "      <th>...</th>\n",
       "      <th>lag_PAYOUT_9m</th>\n",
       "      <th>lag_PAYOUTYIELD_9m</th>\n",
       "      <th>PAYOUT_QUINTILE_9m_3</th>\n",
       "      <th>PAYOUT_QUINTILE_9m_5</th>\n",
       "      <th>PAYOUT_QUINTILE_9m_10</th>\n",
       "      <th>lag_PAYOUT_12m</th>\n",
       "      <th>lag_PAYOUTYIELD_12m</th>\n",
       "      <th>PAYOUT_QUINTILE_12m_3</th>\n",
       "      <th>PAYOUT_QUINTILE_12m_5</th>\n",
       "      <th>PAYOUT_QUINTILE_12m_10</th>\n",
       "    </tr>\n",
       "    <tr>\n",
       "      <th>PERMNO</th>\n",
       "      <th>DATE</th>\n",
       "      <th></th>\n",
       "      <th></th>\n",
       "      <th></th>\n",
       "      <th></th>\n",
       "      <th></th>\n",
       "      <th></th>\n",
       "      <th></th>\n",
       "      <th></th>\n",
       "      <th></th>\n",
       "      <th></th>\n",
       "      <th></th>\n",
       "      <th></th>\n",
       "      <th></th>\n",
       "      <th></th>\n",
       "      <th></th>\n",
       "      <th></th>\n",
       "      <th></th>\n",
       "      <th></th>\n",
       "      <th></th>\n",
       "      <th></th>\n",
       "      <th></th>\n",
       "    </tr>\n",
       "  </thead>\n",
       "  <tbody>\n",
       "    <tr>\n",
       "      <th rowspan=\"5\" valign=\"top\">93436.0</th>\n",
       "      <th>2020-08-31</th>\n",
       "      <td>498.320007</td>\n",
       "      <td>931809.0</td>\n",
       "      <td>3.0</td>\n",
       "      <td>9999.0</td>\n",
       "      <td>4051970.0</td>\n",
       "      <td>0.741452</td>\n",
       "      <td>0.0</td>\n",
       "      <td>4.643391e+08</td>\n",
       "      <td>1430.760010</td>\n",
       "      <td>186362.0</td>\n",
       "      <td>...</td>\n",
       "      <td>0.000000</td>\n",
       "      <td>1.430760e-07</td>\n",
       "      <td>1</td>\n",
       "      <td>2</td>\n",
       "      <td>4</td>\n",
       "      <td>0.000000</td>\n",
       "      <td>1.430760e-07</td>\n",
       "      <td>1</td>\n",
       "      <td>2</td>\n",
       "      <td>3</td>\n",
       "    </tr>\n",
       "    <tr>\n",
       "      <th>2020-09-30</th>\n",
       "      <td>429.010010</td>\n",
       "      <td>948000.0</td>\n",
       "      <td>3.0</td>\n",
       "      <td>9999.0</td>\n",
       "      <td>17331954.0</td>\n",
       "      <td>-0.139087</td>\n",
       "      <td>0.0</td>\n",
       "      <td>4.067015e+08</td>\n",
       "      <td>498.320007</td>\n",
       "      <td>931809.0</td>\n",
       "      <td>...</td>\n",
       "      <td>0.000000</td>\n",
       "      <td>4.983200e-08</td>\n",
       "      <td>2</td>\n",
       "      <td>2</td>\n",
       "      <td>4</td>\n",
       "      <td>0.000000</td>\n",
       "      <td>4.983200e-08</td>\n",
       "      <td>1</td>\n",
       "      <td>2</td>\n",
       "      <td>3</td>\n",
       "    </tr>\n",
       "    <tr>\n",
       "      <th>2020-10-30</th>\n",
       "      <td>388.040009</td>\n",
       "      <td>947901.0</td>\n",
       "      <td>3.0</td>\n",
       "      <td>9999.0</td>\n",
       "      <td>8330610.0</td>\n",
       "      <td>-0.095499</td>\n",
       "      <td>0.0</td>\n",
       "      <td>3.678235e+08</td>\n",
       "      <td>429.010010</td>\n",
       "      <td>948000.0</td>\n",
       "      <td>...</td>\n",
       "      <td>0.000000</td>\n",
       "      <td>4.290100e-08</td>\n",
       "      <td>2</td>\n",
       "      <td>2</td>\n",
       "      <td>4</td>\n",
       "      <td>0.000000</td>\n",
       "      <td>4.290100e-08</td>\n",
       "      <td>1</td>\n",
       "      <td>2</td>\n",
       "      <td>3</td>\n",
       "    </tr>\n",
       "    <tr>\n",
       "      <th>2020-11-30</th>\n",
       "      <td>567.599976</td>\n",
       "      <td>947901.0</td>\n",
       "      <td>3.0</td>\n",
       "      <td>9999.0</td>\n",
       "      <td>7811501.0</td>\n",
       "      <td>0.462736</td>\n",
       "      <td>0.0</td>\n",
       "      <td>5.380286e+08</td>\n",
       "      <td>388.040009</td>\n",
       "      <td>947901.0</td>\n",
       "      <td>...</td>\n",
       "      <td>38415.960846</td>\n",
       "      <td>1.044801e-04</td>\n",
       "      <td>2</td>\n",
       "      <td>2</td>\n",
       "      <td>4</td>\n",
       "      <td>38415.960846</td>\n",
       "      <td>1.044801e-04</td>\n",
       "      <td>1</td>\n",
       "      <td>2</td>\n",
       "      <td>4</td>\n",
       "    </tr>\n",
       "    <tr>\n",
       "      <th>2020-12-31</th>\n",
       "      <td>705.669983</td>\n",
       "      <td>947901.0</td>\n",
       "      <td>3.0</td>\n",
       "      <td>9999.0</td>\n",
       "      <td>11962716.0</td>\n",
       "      <td>0.243252</td>\n",
       "      <td>0.0</td>\n",
       "      <td>6.689053e+08</td>\n",
       "      <td>567.599976</td>\n",
       "      <td>947901.0</td>\n",
       "      <td>...</td>\n",
       "      <td>38415.960846</td>\n",
       "      <td>7.145810e-05</td>\n",
       "      <td>2</td>\n",
       "      <td>2</td>\n",
       "      <td>4</td>\n",
       "      <td>38415.960846</td>\n",
       "      <td>7.145810e-05</td>\n",
       "      <td>1</td>\n",
       "      <td>2</td>\n",
       "      <td>4</td>\n",
       "    </tr>\n",
       "  </tbody>\n",
       "</table>\n",
       "<p>5 rows × 32 columns</p>\n",
       "</div>"
      ],
      "text/plain": [
       "                           PRC    SHROUT  EXCHCD   SICCD         VOL  \\\n",
       "PERMNO  DATE                                                           \n",
       "93436.0 2020-08-31  498.320007  931809.0     3.0  9999.0   4051970.0   \n",
       "        2020-09-30  429.010010  948000.0     3.0  9999.0  17331954.0   \n",
       "        2020-10-30  388.040009  947901.0     3.0  9999.0   8330610.0   \n",
       "        2020-11-30  567.599976  947901.0     3.0  9999.0   7811501.0   \n",
       "        2020-12-31  705.669983  947901.0     3.0  9999.0  11962716.0   \n",
       "\n",
       "                         RET  DIVAMT            MV      lag_PRC  lag_SHROUT  \\\n",
       "PERMNO  DATE                                                                  \n",
       "93436.0 2020-08-31  0.741452     0.0  4.643391e+08  1430.760010    186362.0   \n",
       "        2020-09-30 -0.139087     0.0  4.067015e+08   498.320007    931809.0   \n",
       "        2020-10-30 -0.095499     0.0  3.678235e+08   429.010010    948000.0   \n",
       "        2020-11-30  0.462736     0.0  5.380286e+08   388.040009    947901.0   \n",
       "        2020-12-31  0.243252     0.0  6.689053e+08   567.599976    947901.0   \n",
       "\n",
       "                    ...  lag_PAYOUT_9m  lag_PAYOUTYIELD_9m  \\\n",
       "PERMNO  DATE        ...                                      \n",
       "93436.0 2020-08-31  ...       0.000000        1.430760e-07   \n",
       "        2020-09-30  ...       0.000000        4.983200e-08   \n",
       "        2020-10-30  ...       0.000000        4.290100e-08   \n",
       "        2020-11-30  ...   38415.960846        1.044801e-04   \n",
       "        2020-12-31  ...   38415.960846        7.145810e-05   \n",
       "\n",
       "                    PAYOUT_QUINTILE_9m_3  PAYOUT_QUINTILE_9m_5  \\\n",
       "PERMNO  DATE                                                     \n",
       "93436.0 2020-08-31                     1                     2   \n",
       "        2020-09-30                     2                     2   \n",
       "        2020-10-30                     2                     2   \n",
       "        2020-11-30                     2                     2   \n",
       "        2020-12-31                     2                     2   \n",
       "\n",
       "                   PAYOUT_QUINTILE_9m_10 lag_PAYOUT_12m lag_PAYOUTYIELD_12m  \\\n",
       "PERMNO  DATE                                                                  \n",
       "93436.0 2020-08-31                     4       0.000000        1.430760e-07   \n",
       "        2020-09-30                     4       0.000000        4.983200e-08   \n",
       "        2020-10-30                     4       0.000000        4.290100e-08   \n",
       "        2020-11-30                     4   38415.960846        1.044801e-04   \n",
       "        2020-12-31                     4   38415.960846        7.145810e-05   \n",
       "\n",
       "                    PAYOUT_QUINTILE_12m_3  PAYOUT_QUINTILE_12m_5  \\\n",
       "PERMNO  DATE                                                       \n",
       "93436.0 2020-08-31                      1                      2   \n",
       "        2020-09-30                      1                      2   \n",
       "        2020-10-30                      1                      2   \n",
       "        2020-11-30                      1                      2   \n",
       "        2020-12-31                      1                      2   \n",
       "\n",
       "                   PAYOUT_QUINTILE_12m_10  \n",
       "PERMNO  DATE                               \n",
       "93436.0 2020-08-31                      3  \n",
       "        2020-09-30                      3  \n",
       "        2020-10-30                      3  \n",
       "        2020-11-30                      4  \n",
       "        2020-12-31                      4  \n",
       "\n",
       "[5 rows x 32 columns]"
      ]
     },
     "execution_count": 31,
     "metadata": {},
     "output_type": "execute_result"
    }
   ],
   "source": [
    "df.tail()"
   ]
  },
  {
   "cell_type": "markdown",
   "metadata": {},
   "source": [
    "#### Strategy Analysis"
   ]
  },
  {
   "cell_type": "markdown",
   "metadata": {},
   "source": [
    "Tune hyperparameters (quantile, lag) to achieve the highest return:"
   ]
  },
  {
   "cell_type": "code",
   "execution_count": 32,
   "metadata": {
    "ExecuteTime": {
     "end_time": "2021-11-27T07:16:40.663941Z",
     "start_time": "2021-11-27T07:16:39.932661Z"
    }
   },
   "outputs": [],
   "source": [
    "lags, qs, longs, shorts = [], [], [], []\n",
    "for i in [3,6,9,12]:\n",
    "    for j in [3,5,10]:\n",
    "        payout_ports = df.groupby([f'PAYOUT_QUINTILE_{i}m_{j}','DATE'])['RET'].mean()\n",
    "        payout_stats = payout_ports.groupby([f'PAYOUT_QUINTILE_{i}m_{j}']).describe()\n",
    "        payout_stats['sharpe'] = payout_stats['mean'] / payout_stats['std'] * np.sqrt(12)\n",
    "        lags.append(i)\n",
    "        qs.append(j)\n",
    "        shorts.append(payout_stats.iloc[0,1])\n",
    "        longs.append(payout_stats.iloc[-1,1])"
   ]
  },
  {
   "cell_type": "code",
   "execution_count": 33,
   "metadata": {
    "ExecuteTime": {
     "end_time": "2021-11-27T07:16:40.667929Z",
     "start_time": "2021-11-27T07:16:40.665147Z"
    }
   },
   "outputs": [],
   "source": [
    "tuning_df = pd.DataFrame({'lags':lags, 'q':qs, 'long':longs, 'short':shorts})\n",
    "tuning_df['long-short'] = tuning_df['long'] - tuning_df['short']"
   ]
  },
  {
   "cell_type": "code",
   "execution_count": 34,
   "metadata": {
    "ExecuteTime": {
     "end_time": "2021-11-27T07:16:40.673972Z",
     "start_time": "2021-11-27T07:16:40.669106Z"
    }
   },
   "outputs": [
    {
     "data": {
      "text/html": [
       "<div>\n",
       "<style scoped>\n",
       "    .dataframe tbody tr th:only-of-type {\n",
       "        vertical-align: middle;\n",
       "    }\n",
       "\n",
       "    .dataframe tbody tr th {\n",
       "        vertical-align: top;\n",
       "    }\n",
       "\n",
       "    .dataframe thead th {\n",
       "        text-align: right;\n",
       "    }\n",
       "</style>\n",
       "<table border=\"1\" class=\"dataframe\">\n",
       "  <thead>\n",
       "    <tr style=\"text-align: right;\">\n",
       "      <th></th>\n",
       "      <th>lags</th>\n",
       "      <th>q</th>\n",
       "      <th>long</th>\n",
       "      <th>short</th>\n",
       "      <th>long-short</th>\n",
       "    </tr>\n",
       "  </thead>\n",
       "  <tbody>\n",
       "    <tr>\n",
       "      <th>9</th>\n",
       "      <td>12</td>\n",
       "      <td>3</td>\n",
       "      <td>0.012480</td>\n",
       "      <td>0.011676</td>\n",
       "      <td>0.000805</td>\n",
       "    </tr>\n",
       "    <tr>\n",
       "      <th>6</th>\n",
       "      <td>9</td>\n",
       "      <td>3</td>\n",
       "      <td>0.012264</td>\n",
       "      <td>0.011759</td>\n",
       "      <td>0.000505</td>\n",
       "    </tr>\n",
       "    <tr>\n",
       "      <th>3</th>\n",
       "      <td>6</td>\n",
       "      <td>3</td>\n",
       "      <td>0.012208</td>\n",
       "      <td>0.012316</td>\n",
       "      <td>-0.000108</td>\n",
       "    </tr>\n",
       "  </tbody>\n",
       "</table>\n",
       "</div>"
      ],
      "text/plain": [
       "   lags  q      long     short  long-short\n",
       "9    12  3  0.012480  0.011676    0.000805\n",
       "6     9  3  0.012264  0.011759    0.000505\n",
       "3     6  3  0.012208  0.012316   -0.000108"
      ]
     },
     "execution_count": 34,
     "metadata": {},
     "output_type": "execute_result"
    }
   ],
   "source": [
    "tuning_df.sort_values(by='long-short', ascending=False)[:3]"
   ]
  },
  {
   "cell_type": "markdown",
   "metadata": {},
   "source": [
    "Based on the long-short result of different combination of hyperparameters, we can see that the payout yield strategy does not perform well. \n",
    "- The lowest quantile's return is always  positive\n",
    "- The difference between the highest and lowest quantile is more likely to be negative. \n",
    "\n",
    "Here, we choose lag=12 and q=3.\n",
    "\n",
    "We can expect that, when we combine all strategies together, payout yield strategy will be assigned with a low weight."
   ]
  },
  {
   "cell_type": "markdown",
   "metadata": {},
   "source": [
    "#### Strategy Outputs"
   ]
  },
  {
   "cell_type": "code",
   "execution_count": 35,
   "metadata": {
    "ExecuteTime": {
     "end_time": "2021-11-27T07:16:58.748421Z",
     "start_time": "2021-11-27T07:16:40.674956Z"
    }
   },
   "outputs": [],
   "source": [
    "df.dropna(subset=['PAYOUT_QUINTILE_12m_3'], inplace=True)\n",
    "data['Payout_QUINTILE'] = df['PAYOUT_QUINTILE_12m_3'].astype(int)\n",
    "data['Payout_QUINTILE'] = data['Payout_QUINTILE'].fillna(0)"
   ]
  },
  {
   "cell_type": "markdown",
   "metadata": {},
   "source": [
    "The series returned in this strategy is ```data['PAYOUT_QUINTILE']``` where 0 represents no action, 3 represents long and 1 represents short. "
   ]
  },
  {
   "cell_type": "code",
   "execution_count": 36,
   "metadata": {
    "ExecuteTime": {
     "end_time": "2021-11-27T07:16:58.769242Z",
     "start_time": "2021-11-27T07:16:58.749584Z"
    },
    "scrolled": true
   },
   "outputs": [
    {
     "data": {
      "text/plain": [
       "0.0    1083913\n",
       "1.0     491729\n",
       "3.0     491319\n",
       "2.0     490910\n",
       "Name: Payout_QUINTILE, dtype: int64"
      ]
     },
     "execution_count": 36,
     "metadata": {},
     "output_type": "execute_result"
    }
   ],
   "source": [
    "data['Payout_QUINTILE'].value_counts()"
   ]
  },
  {
   "cell_type": "code",
   "execution_count": null,
   "metadata": {},
   "outputs": [],
   "source": []
  },
  {
   "cell_type": "markdown",
   "metadata": {},
   "source": [
    "### Volatility"
   ]
  },
  {
   "cell_type": "code",
   "execution_count": 37,
   "metadata": {
    "ExecuteTime": {
     "end_time": "2021-11-27T07:16:58.808988Z",
     "start_time": "2021-11-27T07:16:58.770159Z"
    }
   },
   "outputs": [],
   "source": [
    "df = df_payout.copy()"
   ]
  },
  {
   "cell_type": "code",
   "execution_count": 38,
   "metadata": {
    "ExecuteTime": {
     "end_time": "2021-11-27T07:18:56.524946Z",
     "start_time": "2021-11-27T07:16:58.810733Z"
    }
   },
   "outputs": [
    {
     "name": "stdout",
     "output_type": "stream",
     "text": [
      "Lag 12 months done.\n",
      "Lag 24 months done.\n",
      "Lag 36 months done.\n"
     ]
    }
   ],
   "source": [
    "# compute 1, 2 and 3 years of lags\n",
    "# Produce quantiles of different combinition of lags and quantile\n",
    "for i in [12,24,36]:\n",
    "    for j in [3,5,10]:\n",
    "        df[f'lag_SD_{i}m'] = df['RET'].groupby('PERMNO').rolling(i).std().shift(1).reset_index(level=0, drop=True)\n",
    "        # Compute quintile rank\n",
    "        df[f'Volatility_QUINTILE_{i}m_{j}'] =  df[f'lag_SD_{i}m'].groupby('DATE').apply(quintiles, j)\n",
    "    print(f'Lag {i} months done.')"
   ]
  },
  {
   "cell_type": "markdown",
   "metadata": {},
   "source": [
    "#### Strategy Analysis"
   ]
  },
  {
   "cell_type": "code",
   "execution_count": 39,
   "metadata": {
    "ExecuteTime": {
     "end_time": "2021-11-27T07:18:56.956122Z",
     "start_time": "2021-11-27T07:18:56.526103Z"
    }
   },
   "outputs": [],
   "source": [
    "# Tune hyperparameters (quantile, lag) to achieve the highest return\n",
    "lags, qs, longs, shorts = [], [], [], []\n",
    "for i in [12,24,36]:\n",
    "    for j in [3,5,10]:\n",
    "        vola_ports = df.groupby([f'Volatility_QUINTILE_{i}m_{j}','DATE'])['RET'].mean()\n",
    "        vola_stats = vola_ports.groupby([f'Volatility_QUINTILE_{i}m_{j}']).describe()\n",
    "        vola_stats['sharpe'] = vola_stats['mean'] / vola_stats['std'] * np.sqrt(12)\n",
    "        lags.append(i)\n",
    "        qs.append(j)\n",
    "        shorts.append(vola_stats.iloc[-1,1])\n",
    "        longs.append(vola_stats.iloc[0,1])"
   ]
  },
  {
   "cell_type": "code",
   "execution_count": 40,
   "metadata": {
    "ExecuteTime": {
     "end_time": "2021-11-27T07:18:56.959720Z",
     "start_time": "2021-11-27T07:18:56.957054Z"
    }
   },
   "outputs": [],
   "source": [
    "tuning_df = pd.DataFrame({'lags':lags, 'q':qs, 'long':longs, 'short':shorts})\n",
    "tuning_df['long-short'] = tuning_df['long'] - tuning_df['short']"
   ]
  },
  {
   "cell_type": "code",
   "execution_count": 41,
   "metadata": {
    "ExecuteTime": {
     "end_time": "2021-11-27T07:18:56.965522Z",
     "start_time": "2021-11-27T07:18:56.960793Z"
    }
   },
   "outputs": [
    {
     "data": {
      "text/html": [
       "<div>\n",
       "<style scoped>\n",
       "    .dataframe tbody tr th:only-of-type {\n",
       "        vertical-align: middle;\n",
       "    }\n",
       "\n",
       "    .dataframe tbody tr th {\n",
       "        vertical-align: top;\n",
       "    }\n",
       "\n",
       "    .dataframe thead th {\n",
       "        text-align: right;\n",
       "    }\n",
       "</style>\n",
       "<table border=\"1\" class=\"dataframe\">\n",
       "  <thead>\n",
       "    <tr style=\"text-align: right;\">\n",
       "      <th></th>\n",
       "      <th>lags</th>\n",
       "      <th>q</th>\n",
       "      <th>long</th>\n",
       "      <th>short</th>\n",
       "      <th>long-short</th>\n",
       "    </tr>\n",
       "  </thead>\n",
       "  <tbody>\n",
       "    <tr>\n",
       "      <th>2</th>\n",
       "      <td>12</td>\n",
       "      <td>10</td>\n",
       "      <td>0.010581</td>\n",
       "      <td>0.010351</td>\n",
       "      <td>0.000230</td>\n",
       "    </tr>\n",
       "    <tr>\n",
       "      <th>5</th>\n",
       "      <td>24</td>\n",
       "      <td>10</td>\n",
       "      <td>0.010988</td>\n",
       "      <td>0.012058</td>\n",
       "      <td>-0.001070</td>\n",
       "    </tr>\n",
       "    <tr>\n",
       "      <th>8</th>\n",
       "      <td>36</td>\n",
       "      <td>10</td>\n",
       "      <td>0.010366</td>\n",
       "      <td>0.011744</td>\n",
       "      <td>-0.001378</td>\n",
       "    </tr>\n",
       "  </tbody>\n",
       "</table>\n",
       "</div>"
      ],
      "text/plain": [
       "   lags   q      long     short  long-short\n",
       "2    12  10  0.010581  0.010351    0.000230\n",
       "5    24  10  0.010988  0.012058   -0.001070\n",
       "8    36  10  0.010366  0.011744   -0.001378"
      ]
     },
     "execution_count": 41,
     "metadata": {},
     "output_type": "execute_result"
    }
   ],
   "source": [
    "tuning_df.sort_values(by='long-short', ascending=False)[:3]"
   ]
  },
  {
   "cell_type": "markdown",
   "metadata": {},
   "source": [
    "According to the above table, 12 months lags with 10 quatiles is the combination with highest returns"
   ]
  },
  {
   "cell_type": "markdown",
   "metadata": {},
   "source": [
    "#### Strategy Outputs"
   ]
  },
  {
   "cell_type": "code",
   "execution_count": 42,
   "metadata": {
    "ExecuteTime": {
     "end_time": "2021-11-27T07:19:08.158605Z",
     "start_time": "2021-11-27T07:18:56.966340Z"
    }
   },
   "outputs": [],
   "source": [
    "df.dropna(subset=['Volatility_QUINTILE_12m_10'], inplace=True)\n",
    "data['Volatility_QUINTILE'] = df['Volatility_QUINTILE_12m_10'].astype(int)\n",
    "data['Volatility_QUINTILE'] = data['Volatility_QUINTILE'].fillna(0)"
   ]
  },
  {
   "cell_type": "code",
   "execution_count": 43,
   "metadata": {
    "ExecuteTime": {
     "end_time": "2021-11-27T07:19:08.178849Z",
     "start_time": "2021-11-27T07:19:08.159827Z"
    },
    "scrolled": false
   },
   "outputs": [
    {
     "data": {
      "text/plain": [
       "0.0     1068009\n",
       "1.0      149135\n",
       "10.0     149103\n",
       "5.0      148998\n",
       "8.0      148977\n",
       "2.0      148974\n",
       "4.0      148967\n",
       "3.0      148937\n",
       "9.0      148934\n",
       "7.0      148927\n",
       "6.0      148910\n",
       "Name: Volatility_QUINTILE, dtype: int64"
      ]
     },
     "execution_count": 43,
     "metadata": {},
     "output_type": "execute_result"
    }
   ],
   "source": [
    "# 0 represents no action, 5 represents long and 1 represents short.\n",
    "data['Volatility_QUINTILE'].value_counts()"
   ]
  },
  {
   "cell_type": "code",
   "execution_count": null,
   "metadata": {},
   "outputs": [],
   "source": []
  },
  {
   "cell_type": "markdown",
   "metadata": {},
   "source": [
    "### Momentum"
   ]
  },
  {
   "cell_type": "code",
   "execution_count": 44,
   "metadata": {
    "ExecuteTime": {
     "end_time": "2021-11-27T07:19:08.182280Z",
     "start_time": "2021-11-27T07:19:08.179800Z"
    }
   },
   "outputs": [],
   "source": [
    "def weighted_average(df,data_col,weight_col,by_col):\n",
    "    df['_data_times_weight'] = df[data_col]*df[weight_col]\n",
    "    df['_weight_where_notnull'] = df[weight_col]*pd.notnull(df[data_col])\n",
    "    g = df.groupby(by_col)\n",
    "    result = g['_data_times_weight'].sum() / g['_weight_where_notnull'].sum()\n",
    "    del df['_data_times_weight'], df['_weight_where_notnull']\n",
    "    return result"
   ]
  },
  {
   "cell_type": "code",
   "execution_count": 45,
   "metadata": {
    "ExecuteTime": {
     "end_time": "2021-11-27T07:19:08.222812Z",
     "start_time": "2021-11-27T07:19:08.183305Z"
    }
   },
   "outputs": [
    {
     "data": {
      "text/html": [
       "<div>\n",
       "<style scoped>\n",
       "    .dataframe tbody tr th:only-of-type {\n",
       "        vertical-align: middle;\n",
       "    }\n",
       "\n",
       "    .dataframe tbody tr th {\n",
       "        vertical-align: top;\n",
       "    }\n",
       "\n",
       "    .dataframe thead th {\n",
       "        text-align: right;\n",
       "    }\n",
       "</style>\n",
       "<table border=\"1\" class=\"dataframe\">\n",
       "  <thead>\n",
       "    <tr style=\"text-align: right;\">\n",
       "      <th></th>\n",
       "      <th>RF</th>\n",
       "    </tr>\n",
       "    <tr>\n",
       "      <th>DATE</th>\n",
       "      <th></th>\n",
       "    </tr>\n",
       "  </thead>\n",
       "  <tbody>\n",
       "    <tr>\n",
       "      <th>1926-07-31</th>\n",
       "      <td>0.0022</td>\n",
       "    </tr>\n",
       "    <tr>\n",
       "      <th>1926-08-31</th>\n",
       "      <td>0.0025</td>\n",
       "    </tr>\n",
       "    <tr>\n",
       "      <th>1926-09-30</th>\n",
       "      <td>0.0023</td>\n",
       "    </tr>\n",
       "    <tr>\n",
       "      <th>1926-10-31</th>\n",
       "      <td>0.0032</td>\n",
       "    </tr>\n",
       "    <tr>\n",
       "      <th>1926-11-30</th>\n",
       "      <td>0.0031</td>\n",
       "    </tr>\n",
       "  </tbody>\n",
       "</table>\n",
       "</div>"
      ],
      "text/plain": [
       "                RF\n",
       "DATE              \n",
       "1926-07-31  0.0022\n",
       "1926-08-31  0.0025\n",
       "1926-09-30  0.0023\n",
       "1926-10-31  0.0032\n",
       "1926-11-30  0.0031"
      ]
     },
     "execution_count": 45,
     "metadata": {},
     "output_type": "execute_result"
    }
   ],
   "source": [
    "rf = pd.read_csv('./Data/risk-free_return.csv', parse_dates=[0], index_col=[0])\n",
    "rf.head()"
   ]
  },
  {
   "cell_type": "code",
   "execution_count": 46,
   "metadata": {
    "ExecuteTime": {
     "end_time": "2021-11-27T07:19:08.259868Z",
     "start_time": "2021-11-27T07:19:08.224328Z"
    }
   },
   "outputs": [],
   "source": [
    "stocks = df_payout.copy()\n",
    "stocks['lagMV'] = stocks.groupby('PERMNO')['MV'].shift()"
   ]
  },
  {
   "cell_type": "markdown",
   "metadata": {},
   "source": [
    "#### Strategy Analysis"
   ]
  },
  {
   "cell_type": "code",
   "execution_count": 47,
   "metadata": {
    "ExecuteTime": {
     "end_time": "2021-11-27T07:19:08.267991Z",
     "start_time": "2021-11-27T07:19:08.261140Z"
    }
   },
   "outputs": [],
   "source": [
    "def momentum_tuning(df, minlag, maxlag, weighttype, pastrettype, numbins):\n",
    "    if pastrettype=='comp':\n",
    "        df['CUMGROSSRET'] = (1+df['RET']).groupby('PERMNO').cumprod()\n",
    "        df['MOM'] = df['CUMGROSSRET'].groupby('PERMNO').shift(minlag) / df['CUMGROSSRET'].groupby('PERMNO').shift(maxlag) - 1 \n",
    "    if pastrettype=='mean':\n",
    "        df['ROLLMEAN'] = df['RET'].groupby('PERMNO').rolling(maxlag-minlag).mean().reset_index(level=0, drop=True)\n",
    "        df['MOM'] = df['ROLLMEAN'].groupby('PERMNO').shift(minlag)   \n",
    "    if pastrettype=='sharpe':\n",
    "        df['ROLLMEAN'] = df['RET'].groupby('PERMNO').rolling(maxlag-minlag).mean().reset_index(level=0, drop=True)\n",
    "        df['ROLLSD'] = df['RET'].groupby('PERMNO').rolling(maxlag-minlag).std().reset_index(level=0, drop=True)\n",
    "        df['MOM'] = df['ROLLMEAN'].groupby('PERMNO').shift(minlag) / df['ROLLSD'].groupby('PERMNO').shift(minlag)\n",
    "    df.dropna(subset=['RET','MOM','MV'], inplace=True)\n",
    "    df['XRET'] = df['RET'] - rf['RF']/100\n",
    "    df = df.reorder_levels(['DATE','PERMNO'])\n",
    "    df.sort_index(inplace=True)\n",
    "    df['QUANTILE'] = df['MOM'].groupby('DATE').apply(quintiles, numbins)\n",
    "    if weighttype=='EW':\n",
    "        ports = df.groupby(['QUANTILE','DATE'])['XRET'].mean()\n",
    "    if weighttype=='VW':\n",
    "        ports = weighted_average(df, 'XRET', 'lagMV', ['QUANTILE','DATE'])\n",
    "\n",
    "    mom_ports = df.groupby(['QUANTILE','DATE'])['RET'].mean()\n",
    "    mom_stats = mom_ports.groupby('QUANTILE').describe()\n",
    "    mom_stats['sharpe'] = mom_stats['mean'] / mom_stats['std'] * np.sqrt(12)\n",
    "    short = mom_stats.iloc[0,1]\n",
    "    long = mom_stats.iloc[-1,1]\n",
    "    #display(mom_stats)\n",
    "    \n",
    "    return minlag, maxlag, weighttype, pastrettype, numbins, short, long"
   ]
  },
  {
   "cell_type": "code",
   "execution_count": 48,
   "metadata": {
    "ExecuteTime": {
     "end_time": "2021-11-27T07:22:38.902878Z",
     "start_time": "2021-11-27T07:19:08.269458Z"
    }
   },
   "outputs": [
    {
     "name": "stdout",
     "output_type": "stream",
     "text": [
      "1,10 done\n",
      "1,13 done\n",
      "1,20 done\n",
      "2,10 done\n",
      "2,13 done\n",
      "2,20 done\n",
      "3,10 done\n",
      "3,13 done\n",
      "3,20 done\n"
     ]
    }
   ],
   "source": [
    "minlags, maxlags, weighttypes, pastrettypes, numbinses, shorts, longs = [],[],[],[],[],[],[]\n",
    "for minlag in [1,2,3]:\n",
    "    for maxlag in [10,13,20]:\n",
    "        for weighttype in ['VW','EW']:\n",
    "            for pastrettype in ['mean','comp','sharpe']:\n",
    "                for numbins in [5, 10]:\n",
    "                    df = stocks.copy()\n",
    "                    #print(minlag,maxlag,weighttype,pastrettype,numbins)\n",
    "                    l = momentum_tuning(df,minlag,maxlag,weighttype,pastrettype,numbins)\n",
    "                    minlags.append(l[0])\n",
    "                    maxlags.append(l[1])\n",
    "                    weighttypes.append(l[2])\n",
    "                    pastrettypes.append(l[3]) \n",
    "                    numbinses.append(l[4])\n",
    "                    shorts.append(l[5])\n",
    "                    longs.append(l[6])\n",
    "        print(f'{minlag},{maxlag} done')"
   ]
  },
  {
   "cell_type": "code",
   "execution_count": 49,
   "metadata": {
    "ExecuteTime": {
     "end_time": "2021-11-27T07:22:38.907998Z",
     "start_time": "2021-11-27T07:22:38.904434Z"
    }
   },
   "outputs": [],
   "source": [
    "tuning_df = pd.DataFrame({'minlags':minlags, 'maxlags':maxlags, 'weighttypes':weighttypes, \n",
    "                          'pastrettypes':pastrettypes, 'numbinses':numbinses, 'shorts':shorts, 'longs':longs})\n",
    "tuning_df['long-short'] = tuning_df['longs'] - tuning_df['shorts']"
   ]
  },
  {
   "cell_type": "code",
   "execution_count": 50,
   "metadata": {
    "ExecuteTime": {
     "end_time": "2021-11-27T07:22:38.915076Z",
     "start_time": "2021-11-27T07:22:38.909148Z"
    }
   },
   "outputs": [
    {
     "data": {
      "text/html": [
       "<div>\n",
       "<style scoped>\n",
       "    .dataframe tbody tr th:only-of-type {\n",
       "        vertical-align: middle;\n",
       "    }\n",
       "\n",
       "    .dataframe tbody tr th {\n",
       "        vertical-align: top;\n",
       "    }\n",
       "\n",
       "    .dataframe thead th {\n",
       "        text-align: right;\n",
       "    }\n",
       "</style>\n",
       "<table border=\"1\" class=\"dataframe\">\n",
       "  <thead>\n",
       "    <tr style=\"text-align: right;\">\n",
       "      <th></th>\n",
       "      <th>minlags</th>\n",
       "      <th>maxlags</th>\n",
       "      <th>weighttypes</th>\n",
       "      <th>pastrettypes</th>\n",
       "      <th>numbinses</th>\n",
       "      <th>shorts</th>\n",
       "      <th>longs</th>\n",
       "      <th>long-short</th>\n",
       "    </tr>\n",
       "  </thead>\n",
       "  <tbody>\n",
       "    <tr>\n",
       "      <th>88</th>\n",
       "      <td>3</td>\n",
       "      <td>13</td>\n",
       "      <td>VW</td>\n",
       "      <td>sharpe</td>\n",
       "      <td>5</td>\n",
       "      <td>0.009624</td>\n",
       "      <td>0.014982</td>\n",
       "      <td>0.005359</td>\n",
       "    </tr>\n",
       "  </tbody>\n",
       "</table>\n",
       "</div>"
      ],
      "text/plain": [
       "    minlags  maxlags weighttypes pastrettypes  numbinses    shorts     longs  \\\n",
       "88        3       13          VW       sharpe          5  0.009624  0.014982   \n",
       "\n",
       "    long-short  \n",
       "88    0.005359  "
      ]
     },
     "execution_count": 50,
     "metadata": {},
     "output_type": "execute_result"
    }
   ],
   "source": [
    "tuning_df.sort_values(by='long-short', ascending=False).head(1)"
   ]
  },
  {
   "cell_type": "markdown",
   "metadata": {},
   "source": [
    "According to the above table, minlag=3,maxlag=13,weighttype='VW',pastrettype='sharpe',numbins=5 is the combination with highest returns"
   ]
  },
  {
   "cell_type": "code",
   "execution_count": 51,
   "metadata": {
    "ExecuteTime": {
     "end_time": "2021-11-27T07:22:41.630851Z",
     "start_time": "2021-11-27T07:22:38.916203Z"
    }
   },
   "outputs": [
    {
     "data": {
      "text/html": [
       "<div>\n",
       "<style scoped>\n",
       "    .dataframe tbody tr th:only-of-type {\n",
       "        vertical-align: middle;\n",
       "    }\n",
       "\n",
       "    .dataframe tbody tr th {\n",
       "        vertical-align: top;\n",
       "    }\n",
       "\n",
       "    .dataframe thead th {\n",
       "        text-align: right;\n",
       "    }\n",
       "</style>\n",
       "<table border=\"1\" class=\"dataframe\">\n",
       "  <thead>\n",
       "    <tr style=\"text-align: right;\">\n",
       "      <th></th>\n",
       "      <th>count</th>\n",
       "      <th>mean</th>\n",
       "      <th>std</th>\n",
       "      <th>min</th>\n",
       "      <th>25%</th>\n",
       "      <th>50%</th>\n",
       "      <th>75%</th>\n",
       "      <th>max</th>\n",
       "      <th>sharpe</th>\n",
       "    </tr>\n",
       "    <tr>\n",
       "      <th>QUANTILE</th>\n",
       "      <th></th>\n",
       "      <th></th>\n",
       "      <th></th>\n",
       "      <th></th>\n",
       "      <th></th>\n",
       "      <th></th>\n",
       "      <th></th>\n",
       "      <th></th>\n",
       "      <th></th>\n",
       "    </tr>\n",
       "  </thead>\n",
       "  <tbody>\n",
       "    <tr>\n",
       "      <th>1</th>\n",
       "      <td>324.0</td>\n",
       "      <td>0.009624</td>\n",
       "      <td>0.079159</td>\n",
       "      <td>-0.243735</td>\n",
       "      <td>-0.033915</td>\n",
       "      <td>0.011436</td>\n",
       "      <td>0.048104</td>\n",
       "      <td>0.488295</td>\n",
       "      <td>0.421151</td>\n",
       "    </tr>\n",
       "    <tr>\n",
       "      <th>2</th>\n",
       "      <td>324.0</td>\n",
       "      <td>0.010640</td>\n",
       "      <td>0.063577</td>\n",
       "      <td>-0.241448</td>\n",
       "      <td>-0.024542</td>\n",
       "      <td>0.011897</td>\n",
       "      <td>0.043747</td>\n",
       "      <td>0.307921</td>\n",
       "      <td>0.579743</td>\n",
       "    </tr>\n",
       "    <tr>\n",
       "      <th>3</th>\n",
       "      <td>324.0</td>\n",
       "      <td>0.011134</td>\n",
       "      <td>0.057700</td>\n",
       "      <td>-0.239963</td>\n",
       "      <td>-0.020078</td>\n",
       "      <td>0.014960</td>\n",
       "      <td>0.044023</td>\n",
       "      <td>0.216043</td>\n",
       "      <td>0.668437</td>\n",
       "    </tr>\n",
       "    <tr>\n",
       "      <th>4</th>\n",
       "      <td>324.0</td>\n",
       "      <td>0.013295</td>\n",
       "      <td>0.055763</td>\n",
       "      <td>-0.220837</td>\n",
       "      <td>-0.012514</td>\n",
       "      <td>0.016151</td>\n",
       "      <td>0.047476</td>\n",
       "      <td>0.187682</td>\n",
       "      <td>0.825905</td>\n",
       "    </tr>\n",
       "    <tr>\n",
       "      <th>5</th>\n",
       "      <td>324.0</td>\n",
       "      <td>0.014982</td>\n",
       "      <td>0.054329</td>\n",
       "      <td>-0.191137</td>\n",
       "      <td>-0.009231</td>\n",
       "      <td>0.017540</td>\n",
       "      <td>0.045902</td>\n",
       "      <td>0.213700</td>\n",
       "      <td>0.955307</td>\n",
       "    </tr>\n",
       "  </tbody>\n",
       "</table>\n",
       "</div>"
      ],
      "text/plain": [
       "          count      mean       std       min       25%       50%       75%  \\\n",
       "QUANTILE                                                                      \n",
       "1         324.0  0.009624  0.079159 -0.243735 -0.033915  0.011436  0.048104   \n",
       "2         324.0  0.010640  0.063577 -0.241448 -0.024542  0.011897  0.043747   \n",
       "3         324.0  0.011134  0.057700 -0.239963 -0.020078  0.014960  0.044023   \n",
       "4         324.0  0.013295  0.055763 -0.220837 -0.012514  0.016151  0.047476   \n",
       "5         324.0  0.014982  0.054329 -0.191137 -0.009231  0.017540  0.045902   \n",
       "\n",
       "               max    sharpe  \n",
       "QUANTILE                      \n",
       "1         0.488295  0.421151  \n",
       "2         0.307921  0.579743  \n",
       "3         0.216043  0.668437  \n",
       "4         0.187682  0.825905  \n",
       "5         0.213700  0.955307  "
      ]
     },
     "metadata": {},
     "output_type": "display_data"
    }
   ],
   "source": [
    "minlag=3\n",
    "maxlag=13\n",
    "weighttype='VW'\n",
    "pastrettype='sharpe'\n",
    "numbins=5\n",
    "\n",
    "if pastrettype=='sharpe':\n",
    "    stocks['ROLLMEAN'] = stocks['RET'].groupby('PERMNO').rolling(maxlag-minlag).mean().reset_index(level=0, drop=True)\n",
    "    stocks['ROLLSD'] = stocks['RET'].groupby('PERMNO').rolling(maxlag-minlag).std().reset_index(level=0, drop=True)\n",
    "    stocks['MOM'] = stocks['ROLLMEAN'].groupby('PERMNO').shift(minlag) / stocks['ROLLSD'].groupby('PERMNO').shift(minlag)\n",
    "stocks.dropna(subset=['RET','MOM','MV'], inplace=True)\n",
    "stocks['XRET'] = stocks['RET'] - rf['RF']/100\n",
    "stocks = stocks.reorder_levels(['DATE','PERMNO'])\n",
    "stocks.sort_index(inplace=True)\n",
    "stocks['QUANTILE'] = stocks['MOM'].groupby('DATE').apply(quintiles, numbins)\n",
    "if weighttype=='VW':\n",
    "    ports = weighted_average(stocks, 'XRET', 'lagMV', ['QUANTILE','DATE'])\n",
    "\n",
    "mom_ports = stocks.groupby(['QUANTILE','DATE'])['RET'].mean()\n",
    "mom_stats = mom_ports.groupby('QUANTILE').describe()\n",
    "mom_stats['sharpe'] = mom_stats['mean'] / mom_stats['std'] * np.sqrt(12)\n",
    "short = mom_stats.iloc[0,1]\n",
    "long = mom_stats.iloc[-1,1]\n",
    "display(mom_stats)"
   ]
  },
  {
   "cell_type": "markdown",
   "metadata": {},
   "source": [
    "#### Strategy Outputs"
   ]
  },
  {
   "cell_type": "code",
   "execution_count": 52,
   "metadata": {
    "ExecuteTime": {
     "end_time": "2021-11-27T07:22:41.686836Z",
     "start_time": "2021-11-27T07:22:41.632015Z"
    }
   },
   "outputs": [],
   "source": [
    "stocks = stocks.reorder_levels(['PERMNO','DATE'])"
   ]
  },
  {
   "cell_type": "code",
   "execution_count": 53,
   "metadata": {
    "ExecuteTime": {
     "end_time": "2021-11-27T07:22:53.024605Z",
     "start_time": "2021-11-27T07:22:41.688114Z"
    }
   },
   "outputs": [],
   "source": [
    "stocks.dropna(subset=['QUANTILE'], inplace=True)\n",
    "data['Momentum_QUINTILE'] = stocks['QUANTILE'].astype(int)\n",
    "data['Momentum_QUINTILE'] = data['Momentum_QUINTILE'].fillna(0)"
   ]
  },
  {
   "cell_type": "code",
   "execution_count": 54,
   "metadata": {
    "ExecuteTime": {
     "end_time": "2021-11-27T07:22:53.044727Z",
     "start_time": "2021-11-27T07:22:53.025848Z"
    },
    "scrolled": false
   },
   "outputs": [
    {
     "data": {
      "text/plain": [
       "0.0    1082569\n",
       "1.0     295191\n",
       "5.0     295127\n",
       "3.0     294996\n",
       "4.0     294994\n",
       "2.0     294994\n",
       "Name: Momentum_QUINTILE, dtype: int64"
      ]
     },
     "execution_count": 54,
     "metadata": {},
     "output_type": "execute_result"
    }
   ],
   "source": [
    "# 0 represents no action, 5 represents long and 1 represents short.\n",
    "data['Momentum_QUINTILE'].value_counts()"
   ]
  },
  {
   "cell_type": "markdown",
   "metadata": {},
   "source": [
    "## Final Results\n",
    "Merge all strategy results to data"
   ]
  },
  {
   "cell_type": "code",
   "execution_count": 55,
   "metadata": {
    "ExecuteTime": {
     "end_time": "2021-11-27T07:22:53.149702Z",
     "start_time": "2021-11-27T07:22:53.045779Z"
    }
   },
   "outputs": [],
   "source": [
    "df_reversal = df_reversal.set_index(['PERMNO','DATE'])"
   ]
  },
  {
   "cell_type": "code",
   "execution_count": 56,
   "metadata": {
    "ExecuteTime": {
     "end_time": "2021-11-27T07:23:04.421471Z",
     "start_time": "2021-11-27T07:22:53.150880Z"
    }
   },
   "outputs": [],
   "source": [
    "output = data.join(df_reversal, how='left')"
   ]
  },
  {
   "cell_type": "code",
   "execution_count": 57,
   "metadata": {
    "ExecuteTime": {
     "end_time": "2021-11-27T07:23:04.425459Z",
     "start_time": "2021-11-27T07:23:04.422592Z"
    }
   },
   "outputs": [
    {
     "data": {
      "text/plain": [
       "Index(['PRC', 'SHROUT', 'SHRCD', 'EXCHCD', 'SICCD', 'VOL', 'RET', 'DIVAMT',\n",
       "       'MV', 'Payout_QUINTILE', 'Volatility_QUINTILE', 'Momentum_QUINTILE',\n",
       "       'quantile_q5_ma1', 'quantile_q5_ma2', 'quantile_q6_ma1',\n",
       "       'quantile_q6_ma2', 'quantile_q7_ma1', 'quantile_q7_ma2',\n",
       "       'quantile_q8_ma1', 'quantile_q8_ma2', 'quantile_q9_ma1',\n",
       "       'quantile_q9_ma2', 'quantile_q10_ma1', 'quantile_q10_ma2'],\n",
       "      dtype='object')"
      ]
     },
     "execution_count": 57,
     "metadata": {},
     "output_type": "execute_result"
    }
   ],
   "source": [
    "output.columns"
   ]
  },
  {
   "cell_type": "code",
   "execution_count": 58,
   "metadata": {
    "ExecuteTime": {
     "end_time": "2021-11-27T07:23:04.428045Z",
     "start_time": "2021-11-27T07:23:04.426558Z"
    }
   },
   "outputs": [],
   "source": [
    "output.to_csv('./Data/output.csv')"
   ]
  },
  {
   "cell_type": "code",
   "execution_count": null,
   "metadata": {},
   "outputs": [],
   "source": []
  }
 ],
 "metadata": {
  "kernelspec": {
   "display_name": "Python 3",
   "language": "python",
   "name": "python3"
  },
  "language_info": {
   "codemirror_mode": {
    "name": "ipython",
    "version": 3
   },
   "file_extension": ".py",
   "mimetype": "text/x-python",
   "name": "python",
   "nbconvert_exporter": "python",
   "pygments_lexer": "ipython3",
   "version": "3.7.11"
  },
  "toc": {
   "base_numbering": 1,
   "nav_menu": {},
   "number_sections": true,
   "sideBar": true,
   "skip_h1_title": false,
   "title_cell": "Table of Contents",
   "title_sidebar": "Contents",
   "toc_cell": false,
   "toc_position": {
    "height": "563px",
    "left": "23px",
    "top": "110px",
    "width": "297px"
   },
   "toc_section_display": true,
   "toc_window_display": true
  },
  "varInspector": {
   "cols": {
    "lenName": 16,
    "lenType": 16,
    "lenVar": 40
   },
   "kernels_config": {
    "python": {
     "delete_cmd_postfix": "",
     "delete_cmd_prefix": "del ",
     "library": "var_list.py",
     "varRefreshCmd": "print(var_dic_list())"
    },
    "r": {
     "delete_cmd_postfix": ") ",
     "delete_cmd_prefix": "rm(",
     "library": "var_list.r",
     "varRefreshCmd": "cat(var_dic_list()) "
    }
   },
   "types_to_exclude": [
    "module",
    "function",
    "builtin_function_or_method",
    "instance",
    "_Feature"
   ],
   "window_display": false
  }
 },
 "nbformat": 4,
 "nbformat_minor": 2
}
